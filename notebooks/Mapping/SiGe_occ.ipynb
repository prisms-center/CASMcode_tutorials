{
 "cells": [
  {
   "cell_type": "markdown",
   "id": "965acd43-1eab-4fa0-b402-422657f257c1",
   "metadata": {},
   "source": [
    "Read data from completed DFT calculations back into CASM."
   ]
  },
  {
   "cell_type": "markdown",
   "id": "0568e21e-1474-480c-a765-64f97afccfe6",
   "metadata": {},
   "source": [
    "# Create working directory"
   ]
  },
  {
   "cell_type": "code",
   "execution_count": 1,
   "id": "bef7016f-91bc-47c4-8ce0-f707b5193611",
   "metadata": {},
   "outputs": [],
   "source": [
    "import copy\n",
    "import shutil\n",
    "import os"
   ]
  },
  {
   "cell_type": "code",
   "execution_count": 2,
   "id": "4e878387-d47d-4feb-92c9-19eb8a7a43fa",
   "metadata": {},
   "outputs": [],
   "source": [
    "shutil.copytree('input', 'SiGe')\n",
    "os.chdir('SiGe')"
   ]
  },
  {
   "cell_type": "markdown",
   "id": "52224b5c-682b-44b5-bc83-3921435e287e",
   "metadata": {},
   "source": [
    "# Set up project"
   ]
  },
  {
   "cell_type": "code",
   "execution_count": 3,
   "id": "1fdb1a4f-a076-4117-9508-31c363fd2f8c",
   "metadata": {},
   "outputs": [],
   "source": [
    "import json\n",
    "import libcasm.composition as casmcomp\n",
    "import libcasm.configuration as casmconfig\n",
    "import libcasm.mapping.info as mapinfo\n",
    "import libcasm.mapping.methods as mapmethods\n",
    "import libcasm.xtal as xtal"
   ]
  },
  {
   "cell_type": "markdown",
   "id": "e11dcdfc-65be-43dc-ba2e-b1a2776917a3",
   "metadata": {},
   "source": [
    "Read prim"
   ]
  },
  {
   "cell_type": "code",
   "execution_count": 4,
   "id": "2aca0423-3c85-44f2-b02b-e00b3c1988e5",
   "metadata": {},
   "outputs": [],
   "source": [
    "with open('prim.json', 'r') as f:\n",
    "    prim = xtal.Prim.from_dict(json.load(f))\n",
    "\n",
    "config_prim = casmconfig.Prim(prim)"
   ]
  },
  {
   "cell_type": "markdown",
   "id": "ae4bd836-766b-4a4b-b246-d175d3e58e4b",
   "metadata": {},
   "source": [
    "Read enumerated configurations from JSON"
   ]
  },
  {
   "cell_type": "code",
   "execution_count": 5,
   "id": "f7f15181-0bfe-4bba-9137-0be5dbee6d6f",
   "metadata": {},
   "outputs": [],
   "source": [
    "with open('config_list.json', 'r') as f:\n",
    "    config_data = json.load(f)"
   ]
  },
  {
   "cell_type": "markdown",
   "id": "e942d38e-6b59-406a-9222-0a607bcfc73a",
   "metadata": {},
   "source": [
    "Create a config list from the enumerated configurations"
   ]
  },
  {
   "cell_type": "code",
   "execution_count": 6,
   "id": "4741a600-99e5-4fa9-a625-09b49727f392",
   "metadata": {},
   "outputs": [],
   "source": [
    "supercell_set = casmconfig.SupercellSet(prim=config_prim)\n",
    "config_list = [\n",
    "    casmconfig.Configuration.from_dict(\n",
    "        data=d,\n",
    "        supercells=supercell_set,\n",
    "    ) for d in config_data\n",
    "]\n",
    "config_set = casmconfig.ConfigurationSet()\n",
    "for config in config_list:\n",
    "    config_set.add(config)"
   ]
  },
  {
   "cell_type": "markdown",
   "id": "2fb5952b-d614-4213-b2f5-4644d5027751",
   "metadata": {},
   "source": [
    "# Read DFT data"
   ]
  },
  {
   "cell_type": "markdown",
   "id": "4e7bc1bf-a03e-44a0-927b-cfef1e66908c",
   "metadata": {},
   "source": [
    "The `training_data` folder contains the results of DFT calculations. Each directory labeled `SCELX_X_X_X_X_X_X/Y` corresponds to a configuration. The unrelaxed structure can be found in the file `POS` and the DFT data, including the relaxed structure, can be found in the file `calctype.default/properties.calc.json`."
   ]
  },
  {
   "cell_type": "code",
   "execution_count": 7,
   "id": "9d689ed7-bf0f-4f72-9e5a-d4b572254a78",
   "metadata": {},
   "outputs": [],
   "source": [
    "from pathlib import Path"
   ]
  },
  {
   "cell_type": "code",
   "execution_count": 8,
   "id": "be465c89-67f5-4e42-8acd-db7cb2ef8e7c",
   "metadata": {},
   "outputs": [],
   "source": [
    "training_data = Path('training_data')\n",
    "training_data = [i for i in training_data.rglob('SCEL*/[0-9]*/')]"
   ]
  },
  {
   "cell_type": "markdown",
   "id": "00e16fb9-0150-4580-ad3c-15bed93186c8",
   "metadata": {},
   "source": [
    "We will now read the training data into configurations with properties. For each folder in `training_data`, we will find a match with a configuration in `config_set` by reading the unrelaxed structure from `POS`. Then, we will use `properties.calc.json` to get the DFT energy and calculate the deformation from structural relaxation. Note that the training data does not contain calculations for every enumerated configuration in the `config_list`. Also, the name of each configuration (e.g. `SCEL1_1_1_1_0_0_0/1`) is not a unique identifier -- the \"fingerprint\" of a configuration is its occupation string. For simplicity, we ignore configurations which are not primitive. Results are written to a file called `config_props.json`."
   ]
  },
  {
   "cell_type": "markdown",
   "id": "c8d6db3c-a18e-4f38-ac26-80df54ea8dd7",
   "metadata": {},
   "source": [
    "This routine maps two structures assuming that the second (child) structure was produced directly from the first (parent) structure, for example via relaxation with VASP."
   ]
  },
  {
   "cell_type": "code",
   "execution_count": 14,
   "id": "365cfcca-c709-4e6a-ab5b-a324e17ff69d",
   "metadata": {},
   "outputs": [],
   "source": [
    "def map_relaxed_structure(ideal_structure, relaxed_structure_with_properties):\n",
    "    \"\"\"Given the ideal structure and relaxed structure, map and report mapping cost.\n",
    "\n",
    "    Parameters\n",
    "    ----------\n",
    "    ideal_structure_path: str\n",
    "        Path to the ideal structure in VASP POSCAR format.\n",
    "    relaxed_structure_with_properties_path: str\n",
    "\n",
    "    Returns\n",
    "    -------\n",
    "    structure_mapping: mapinfo.StructureMapping\n",
    "    \"\"\"\n",
    "    # the ideal structure must be converted to CASM `xtal.Prim` format for some mapping steps.\n",
    "    ideal_prim = xtal.Prim.from_poscar_str(ideal_structure.to_poscar_str())\n",
    "\n",
    "    # map lattices, assuming that the relaxed structure is relaxed directly from the ideal structure in VASP\n",
    "    lattice_mapping = mapmethods.map_lattices_without_reorientation(\n",
    "        ideal_structure.lattice(), relaxed_structure_with_properties.lattice()\n",
    "    )\n",
    "\n",
    "    # now map the atoms using the lattice mapping which was found -- there should only be one atom mapping\n",
    "    atom_mapping = mapmethods.map_atoms(\n",
    "        ideal_prim, relaxed_structure_with_properties,\n",
    "        lattice_mapping=lattice_mapping,\n",
    "        prim_factor_group=xtal.make_factor_group(ideal_structure)\n",
    "    )\n",
    "    assert len(atom_mapping) == 1\n",
    "    atom_mapping = atom_mapping[0]\n",
    "\n",
    "    structure_mapping = mapinfo.StructureMapping(\n",
    "        ideal_prim, lattice_mapping, atom_mapping\n",
    "    )\n",
    "\n",
    "    # temporarily forward a scored structure mapping so that atom_cost is accessible: does not work\n",
    "    scored_structure_mapping = mapinfo.ScoredStructureMapping(\n",
    "        structure_mapping=structure_mapping,\n",
    "        lattice_cost=-1, atom_cost=atom_mapping.atom_cost(), total_cost=-1\n",
    "    )    \n",
    "    return scored_structure_mapping"
   ]
  },
  {
   "cell_type": "markdown",
   "id": "8b841313-d697-4358-88f7-e5f478bc0a8e",
   "metadata": {},
   "source": [
    "Now we map all structures in training data, assuming that the structures are all primitive."
   ]
  },
  {
   "cell_type": "code",
   "execution_count": 15,
   "id": "c3359199-8486-4f34-82c1-3c945406671a",
   "metadata": {},
   "outputs": [],
   "source": [
    "config_props = []\n",
    "\n",
    "for directory in training_data:\n",
    "    # get the ideal structure and the relaxed structure\n",
    "    ideal_poscar = directory/'POS'\n",
    "    relaxed_structure_with_properties_json = directory/'calctype.default/properties.calc.json'\n",
    "    if not ideal_poscar.exists() or not relaxed_structure_with_properties_json.exists(): continue\n",
    "    \n",
    "    ideal_structure = xtal.Structure.from_poscar(ideal_poscar.as_posix())\n",
    "    with open(relaxed_structure_with_properties_json, 'r') as f:\n",
    "        props = json.load(f)\n",
    "        relaxed_structure_with_properties = xtal.Structure.from_dict(props)\n",
    "\n",
    "    ###### enforce primitive (will not be needed later)\n",
    "\n",
    "    # this does not work! coordinate mode seems to be wrong\n",
    "    # primitive_structure = xtal.make_primitive_structure(ideal_structure)\n",
    "    # if not primitive_structure.is_equivalent_to(ideal_structure): continue\n",
    "    _config = casmconfig.Configuration.from_structure(config_prim, ideal_structure)\n",
    "    if not casmconfig.is_primitive_configuration(_config): continue\n",
    "    ###################################################\n",
    "\n",
    "    # perform mapping and generate configuration with properties\n",
    "    structure_mapping = map_relaxed_structure(ideal_structure, relaxed_structure_with_properties)\n",
    "\n",
    "    mapped_structure = mapmethods.make_mapped_structure(\n",
    "        structure_mapping, relaxed_structure_with_properties\n",
    "    )\n",
    "\n",
    "    configuration_with_properties = casmconfig.ConfigurationWithProperties.from_structure(\n",
    "        config_prim, mapped_structure\n",
    "    )\n",
    "\n",
    "    config_props.append({\n",
    "        'configuration_with_properties': configuration_with_properties,\n",
    "        'structure_mapping': structure_mapping,\n",
    "        'path': directory,\n",
    "    })"
   ]
  },
  {
   "cell_type": "markdown",
   "id": "aea0b954-bcff-4e1e-b476-9e8eb598f173",
   "metadata": {},
   "source": [
    "Using the initial `config_set` from CASM enumeration, we can assign names to the configurations."
   ]
  },
  {
   "cell_type": "code",
   "execution_count": 16,
   "id": "8a3bc16e-fe3f-4552-bc82-112a8bedf989",
   "metadata": {},
   "outputs": [
    {
     "name": "stdout",
     "output_type": "stream",
     "text": [
      "SCEL4_4_1_1_0_0_2/7\n"
     ]
    }
   ],
   "source": [
    "calculated_config = config_props[0]['configuration_with_properties'].configuration\n",
    "enumerated_config = config_set.get(calculated_config)\n",
    "print(enumerated_config.configuration_name)"
   ]
  },
  {
   "cell_type": "code",
   "execution_count": 17,
   "id": "0f3db3f3-650a-434c-8a98-c814873521b9",
   "metadata": {},
   "outputs": [],
   "source": [
    "for index, value in enumerate(config_props):\n",
    "    calculated_config = value['configuration_with_properties'].configuration\n",
    "    enumerated_config = config_set.get(calculated_config)\n",
    "    configuration_name = enumerated_config.configuration_name\n",
    "    config_props[index]['configuration_name'] = configuration_name"
   ]
  },
  {
   "cell_type": "markdown",
   "id": "d66fa148-f933-4201-b82d-42db75fec48a",
   "metadata": {},
   "source": [
    "We can also calculate compositions and formation energies. The calculator will return the fraction of each species in the configuration. We will order the species as [Si, Ge] so that querying the first index as $x$ will give Si$_{1-x}$Ge$_x$."
   ]
  },
  {
   "cell_type": "code",
   "execution_count": 18,
   "id": "a5661d06-a8b7-4e25-9ef8-93c2249cc9c5",
   "metadata": {},
   "outputs": [
    {
     "name": "stdout",
     "output_type": "stream",
     "text": [
      "atom fraction Si = 0.375\n"
     ]
    }
   ],
   "source": [
    "components = ['Si', 'Ge'] # the order to report the composition in\n",
    "allowed_occs = [['Si', 'Ge']] # the allowed species on each site of the prim\n",
    "composition_calculator = casmcomp.CompositionCalculator(\n",
    "    components=components,\n",
    "    allowed_occs=allowed_occs\n",
    ")\n",
    "\n",
    "calculated_config = config_props[0]['configuration_with_properties'].configuration\n",
    "occupation = calculated_config.occupation\n",
    "species_frac = composition_calculator.species_frac(occupation)\n",
    "x = species_frac[0]\n",
    "print(f'atom fraction Si = {x}')"
   ]
  },
  {
   "cell_type": "code",
   "execution_count": 19,
   "id": "c529542c-8ebb-4163-85eb-75cc3942713e",
   "metadata": {},
   "outputs": [],
   "source": [
    "for index, value in enumerate(config_props):\n",
    "    calculated_config = value['configuration_with_properties'].configuration\n",
    "    occupation = calculated_config.occupation\n",
    "    species_frac = composition_calculator.species_frac(occupation)\n",
    "    x = species_frac[0]\n",
    "    config_props[index]['atom_fraction_Si'] = x"
   ]
  },
  {
   "cell_type": "markdown",
   "id": "b81eb1ec-9704-4e74-a586-703e698eb981",
   "metadata": {},
   "source": [
    "We can get information about the child's lattice deformation from the structure mapping, specifically the lattice deformation gradient. A simple volume change has a cost of 0."
   ]
  },
  {
   "cell_type": "code",
   "execution_count": 20,
   "id": "1d27f70a-aea3-43b0-a39b-21fdf9eff824",
   "metadata": {},
   "outputs": [
    {
     "name": "stdout",
     "output_type": "stream",
     "text": [
      "isotropic cost: 0.0\n",
      "symmetry-breaking cost: 0.0\n"
     ]
    }
   ],
   "source": [
    "calculated_config = config_props[0]['configuration_with_properties'].configuration\n",
    "structure_mapping = config_props[0]['structure_mapping']\n",
    "isotropic_cost = mapinfo.lattice_isotropic_strain_cost(structure_mapping.lattice_mapping().deformation_gradient())\n",
    "symmetry_breaking_cost = mapinfo.lattice_symmetry_breaking_strain_cost(\n",
    "    structure_mapping.lattice_mapping().deformation_gradient(),\n",
    "    xtal.make_point_group(calculated_config.supercell.superlattice)\n",
    ")\n",
    "\n",
    "print(f'isotropic cost: {round(isotropic_cost, 5)}')\n",
    "print(f'symmetry-breaking cost: {round(symmetry_breaking_cost, 5)}')"
   ]
  },
  {
   "cell_type": "code",
   "execution_count": 21,
   "id": "f7f9134e-104f-463b-9e57-ca4e9a707a7b",
   "metadata": {},
   "outputs": [],
   "source": [
    "for index, value in enumerate(config_props):\n",
    "    calculated_config = value['configuration_with_properties'].configuration\n",
    "    structure_mapping = value['structure_mapping']\n",
    "    isotropic_cost = mapinfo.lattice_isotropic_strain_cost(structure_mapping.lattice_mapping().deformation_gradient())\n",
    "    symmetry_breaking_cost = mapinfo.lattice_symmetry_breaking_strain_cost(\n",
    "        structure_mapping.lattice_mapping().deformation_gradient(),\n",
    "        xtal.make_point_group(calculated_config.supercell.superlattice)\n",
    "    )\n",
    "    config_props[index]['lattice_isotropic_strain_cost'] = isotropic_cost\n",
    "    config_props[index]['lattice_symmetry_breaking_strain_cost'] = symmetry_breaking_cost"
   ]
  },
  {
   "cell_type": "markdown",
   "id": "0e4e3974-b142-41a4-b690-1754af8b714b",
   "metadata": {},
   "source": [
    "We can calculate high-symmetry strain componenents from the deformation gradient as well. By default, the mapping info will contain Ustrain (the right stretch tensor) values for $E_{xx}$, $E_{yy}$, etc. Let's get $e_1$ through $e_6$ for Hencky strain."
   ]
  },
  {
   "cell_type": "code",
   "execution_count": 22,
   "id": "7ee4e5ec-887c-4a85-a06e-910baf793890",
   "metadata": {},
   "outputs": [
    {
     "name": "stdout",
     "output_type": "stream",
     "text": [
      "e_1: 0.00959\n",
      "e_2: -0.0\n",
      "e_3: 0.00016\n",
      "e_4: -9e-05\n",
      "e_5: 9e-05\n",
      "e_6: 0.00061\n"
     ]
    }
   ],
   "source": [
    "# choose a symmetry-adapted strain basis\n",
    "basis = xtal.make_symmetry_adapted_strain_basis()\n",
    "# choose Hencky strain\n",
    "hencky_strain_converter = xtal.StrainConverter(\n",
    "    metric='Hstrain',\n",
    "    basis=basis\n",
    ")\n",
    "\n",
    "# get the Hencky strain in the symmetry-adapted strain basis\n",
    "structure_mapping = config_props[0]['structure_mapping']\n",
    "deformation_gradient = structure_mapping.lattice_mapping().deformation_gradient()\n",
    "symmetry_adapted_strain = hencky_strain_converter.from_F(deformation_gradient)\n",
    "for i in range(0, 6):\n",
    "    print(f'e_{i+1}: {round(symmetry_adapted_strain[i], 5)}')"
   ]
  },
  {
   "cell_type": "code",
   "execution_count": 23,
   "id": "20269911-5c16-48fb-b6de-b20535f41e23",
   "metadata": {},
   "outputs": [],
   "source": [
    "for index, value in enumerate(config_props):\n",
    "    structure_mapping = value['structure_mapping']\n",
    "    deformation_gradient = structure_mapping.lattice_mapping().deformation_gradient()\n",
    "    symmetry_adapted_strain = hencky_strain_converter.from_F(deformation_gradient)\n",
    "    config_props[index]['symmetry_adapted_hencky_strain'] = symmetry_adapted_strain"
   ]
  },
  {
   "cell_type": "markdown",
   "id": "a8a979a1-ac4a-42db-9735-088cb039345f",
   "metadata": {},
   "source": [
    "Finally, we write the data to a JSON file for further processing."
   ]
  },
  {
   "cell_type": "code",
   "execution_count": 24,
   "id": "efb471be-9bed-40fd-945b-f33f5bd9aa6d",
   "metadata": {},
   "outputs": [],
   "source": [
    "# with open('config_props.json', 'w') as f:\n",
    "#     json.dump(config_props, f)"
   ]
  },
  {
   "cell_type": "markdown",
   "id": "868d6be2-bba4-4cc4-91ac-4c16b63f90bd",
   "metadata": {},
   "source": [
    "# Plotting"
   ]
  },
  {
   "cell_type": "code",
   "execution_count": 25,
   "id": "29ca703d-c97d-4981-802c-dce3cbbb4b2d",
   "metadata": {},
   "outputs": [
    {
     "data": {
      "text/html": [
       "    <style>\n",
       "        .bk-notebook-logo {\n",
       "            display: block;\n",
       "            width: 20px;\n",
       "            height: 20px;\n",
       "            background-image: url(data:image/png;base64,iVBORw0KGgoAAAANSUhEUgAAABQAAAAUCAYAAACNiR0NAAAABHNCSVQICAgIfAhkiAAAAAlwSFlzAAALEgAACxIB0t1+/AAAABx0RVh0U29mdHdhcmUAQWRvYmUgRmlyZXdvcmtzIENTNui8sowAAAOkSURBVDiNjZRtaJVlGMd/1/08zzln5zjP1LWcU9N0NkN8m2CYjpgQYQXqSs0I84OLIC0hkEKoPtiH3gmKoiJDU7QpLgoLjLIQCpEsNJ1vqUOdO7ppbuec5+V+rj4ctwzd8IIbbi6u+8f1539dt3A78eXC7QizUF7gyV1fD1Yqg4JWz84yffhm0qkFqBogB9rM8tZdtwVsPUhWhGcFJngGeWrPzHm5oaMmkfEg1usvLFyc8jLRqDOMru7AyC8saQr7GG7f5fvDeH7Ej8CM66nIF+8yngt6HWaKh7k49Soy9nXurCi1o3qUbS3zWfrYeQDTB/Qj6kX6Ybhw4B+bOYoLKCC9H3Nu/leUTZ1JdRWkkn2ldcCamzrcf47KKXdAJllSlxAOkRgyHsGC/zRday5Qld9DyoM4/q/rUoy/CXh3jzOu3bHUVZeU+DEn8FInkPBFlu3+nW3Nw0mk6vCDiWg8CeJaxEwuHS3+z5RgY+YBR6V1Z1nxSOfoaPa4LASWxxdNp+VWTk7+4vzaou8v8PN+xo+KY2xsw6une2frhw05CTYOmQvsEhjhWjn0bmXPjpE1+kplmmkP3suftwTubK9Vq22qKmrBhpY4jvd5afdRA3wGjFAgcnTK2s4hY0/GPNIb0nErGMCRxWOOX64Z8RAC4oCXdklmEvcL8o0BfkNK4lUg9HTl+oPlQxdNo3Mg4Nv175e/1LDGzZen30MEjRUtmXSfiTVu1kK8W4txyV6BMKlbgk3lMwYCiusNy9fVfvvwMxv8Ynl6vxoByANLTWplvuj/nF9m2+PDtt1eiHPBr1oIfhCChQMBw6Aw0UulqTKZdfVvfG7VcfIqLG9bcldL/+pdWTLxLUy8Qq38heUIjh4XlzZxzQm19lLFlr8vdQ97rjZVOLf8nclzckbcD4wxXMidpX30sFd37Fv/GtwwhzhxGVAprjbg0gCAEeIgwCZyTV2Z1REEW8O4py0wsjeloKoMr6iCY6dP92H6Vw/oTyICIthibxjm/DfN9lVz8IqtqKYLUXfoKVMVQVVJOElGjrnnUt9T9wbgp8AyYKaGlqingHZU/uG2NTZSVqwHQTWkx9hxjkpWDaCg6Ckj5qebgBVbT3V3NNXMSiWSDdGV3hrtzla7J+duwPOToIg42ChPQOQjspnSlp1V+Gjdged7+8UN5CRAV7a5EdFNwCjEaBR27b3W890TE7g24NAP/mMDXRWrGoFPQI9ls/MWO2dWFAar/xcOIImbbpA3zgAAAABJRU5ErkJggg==);\n",
       "        }\n",
       "    </style>\n",
       "    <div>\n",
       "        <a href=\"https://bokeh.org\" target=\"_blank\" class=\"bk-notebook-logo\"></a>\n",
       "        <span id=\"fdba9c50-23b2-4f27-8e63-5ae898eb65b7\">Loading BokehJS ...</span>\n",
       "    </div>\n"
      ]
     },
     "metadata": {},
     "output_type": "display_data"
    },
    {
     "data": {
      "application/javascript": [
       "'use strict';\n",
       "(function(root) {\n",
       "  function now() {\n",
       "    return new Date();\n",
       "  }\n",
       "\n",
       "  const force = true;\n",
       "\n",
       "  if (typeof root._bokeh_onload_callbacks === \"undefined\" || force === true) {\n",
       "    root._bokeh_onload_callbacks = [];\n",
       "    root._bokeh_is_loading = undefined;\n",
       "  }\n",
       "\n",
       "const JS_MIME_TYPE = 'application/javascript';\n",
       "  const HTML_MIME_TYPE = 'text/html';\n",
       "  const EXEC_MIME_TYPE = 'application/vnd.bokehjs_exec.v0+json';\n",
       "  const CLASS_NAME = 'output_bokeh rendered_html';\n",
       "\n",
       "  /**\n",
       "   * Render data to the DOM node\n",
       "   */\n",
       "  function render(props, node) {\n",
       "    const script = document.createElement(\"script\");\n",
       "    node.appendChild(script);\n",
       "  }\n",
       "\n",
       "  /**\n",
       "   * Handle when an output is cleared or removed\n",
       "   */\n",
       "  function handleClearOutput(event, handle) {\n",
       "    function drop(id) {\n",
       "      const view = Bokeh.index.get_by_id(id)\n",
       "      if (view != null) {\n",
       "        view.model.document.clear()\n",
       "        Bokeh.index.delete(view)\n",
       "      }\n",
       "    }\n",
       "\n",
       "    const cell = handle.cell;\n",
       "\n",
       "    const id = cell.output_area._bokeh_element_id;\n",
       "    const server_id = cell.output_area._bokeh_server_id;\n",
       "\n",
       "    // Clean up Bokeh references\n",
       "    if (id != null) {\n",
       "      drop(id)\n",
       "    }\n",
       "\n",
       "    if (server_id !== undefined) {\n",
       "      // Clean up Bokeh references\n",
       "      const cmd_clean = \"from bokeh.io.state import curstate; print(curstate().uuid_to_server['\" + server_id + \"'].get_sessions()[0].document.roots[0]._id)\";\n",
       "      cell.notebook.kernel.execute(cmd_clean, {\n",
       "        iopub: {\n",
       "          output: function(msg) {\n",
       "            const id = msg.content.text.trim()\n",
       "            drop(id)\n",
       "          }\n",
       "        }\n",
       "      });\n",
       "      // Destroy server and session\n",
       "      const cmd_destroy = \"import bokeh.io.notebook as ion; ion.destroy_server('\" + server_id + \"')\";\n",
       "      cell.notebook.kernel.execute(cmd_destroy);\n",
       "    }\n",
       "  }\n",
       "\n",
       "  /**\n",
       "   * Handle when a new output is added\n",
       "   */\n",
       "  function handleAddOutput(event, handle) {\n",
       "    const output_area = handle.output_area;\n",
       "    const output = handle.output;\n",
       "\n",
       "    // limit handleAddOutput to display_data with EXEC_MIME_TYPE content only\n",
       "    if ((output.output_type != \"display_data\") || (!Object.prototype.hasOwnProperty.call(output.data, EXEC_MIME_TYPE))) {\n",
       "      return\n",
       "    }\n",
       "\n",
       "    const toinsert = output_area.element.find(\".\" + CLASS_NAME.split(' ')[0]);\n",
       "\n",
       "    if (output.metadata[EXEC_MIME_TYPE][\"id\"] !== undefined) {\n",
       "      toinsert[toinsert.length - 1].firstChild.textContent = output.data[JS_MIME_TYPE];\n",
       "      // store reference to embed id on output_area\n",
       "      output_area._bokeh_element_id = output.metadata[EXEC_MIME_TYPE][\"id\"];\n",
       "    }\n",
       "    if (output.metadata[EXEC_MIME_TYPE][\"server_id\"] !== undefined) {\n",
       "      const bk_div = document.createElement(\"div\");\n",
       "      bk_div.innerHTML = output.data[HTML_MIME_TYPE];\n",
       "      const script_attrs = bk_div.children[0].attributes;\n",
       "      for (let i = 0; i < script_attrs.length; i++) {\n",
       "        toinsert[toinsert.length - 1].firstChild.setAttribute(script_attrs[i].name, script_attrs[i].value);\n",
       "        toinsert[toinsert.length - 1].firstChild.textContent = bk_div.children[0].textContent\n",
       "      }\n",
       "      // store reference to server id on output_area\n",
       "      output_area._bokeh_server_id = output.metadata[EXEC_MIME_TYPE][\"server_id\"];\n",
       "    }\n",
       "  }\n",
       "\n",
       "  function register_renderer(events, OutputArea) {\n",
       "\n",
       "    function append_mime(data, metadata, element) {\n",
       "      // create a DOM node to render to\n",
       "      const toinsert = this.create_output_subarea(\n",
       "        metadata,\n",
       "        CLASS_NAME,\n",
       "        EXEC_MIME_TYPE\n",
       "      );\n",
       "      this.keyboard_manager.register_events(toinsert);\n",
       "      // Render to node\n",
       "      const props = {data: data, metadata: metadata[EXEC_MIME_TYPE]};\n",
       "      render(props, toinsert[toinsert.length - 1]);\n",
       "      element.append(toinsert);\n",
       "      return toinsert\n",
       "    }\n",
       "\n",
       "    /* Handle when an output is cleared or removed */\n",
       "    events.on('clear_output.CodeCell', handleClearOutput);\n",
       "    events.on('delete.Cell', handleClearOutput);\n",
       "\n",
       "    /* Handle when a new output is added */\n",
       "    events.on('output_added.OutputArea', handleAddOutput);\n",
       "\n",
       "    /**\n",
       "     * Register the mime type and append_mime function with output_area\n",
       "     */\n",
       "    OutputArea.prototype.register_mime_type(EXEC_MIME_TYPE, append_mime, {\n",
       "      /* Is output safe? */\n",
       "      safe: true,\n",
       "      /* Index of renderer in `output_area.display_order` */\n",
       "      index: 0\n",
       "    });\n",
       "  }\n",
       "\n",
       "  // register the mime type if in Jupyter Notebook environment and previously unregistered\n",
       "  if (root.Jupyter !== undefined) {\n",
       "    const events = require('base/js/events');\n",
       "    const OutputArea = require('notebook/js/outputarea').OutputArea;\n",
       "\n",
       "    if (OutputArea.prototype.mime_types().indexOf(EXEC_MIME_TYPE) == -1) {\n",
       "      register_renderer(events, OutputArea);\n",
       "    }\n",
       "  }\n",
       "  if (typeof (root._bokeh_timeout) === \"undefined\" || force === true) {\n",
       "    root._bokeh_timeout = Date.now() + 5000;\n",
       "    root._bokeh_failed_load = false;\n",
       "  }\n",
       "\n",
       "  const NB_LOAD_WARNING = {'data': {'text/html':\n",
       "     \"<div style='background-color: #fdd'>\\n\"+\n",
       "     \"<p>\\n\"+\n",
       "     \"BokehJS does not appear to have successfully loaded. If loading BokehJS from CDN, this \\n\"+\n",
       "     \"may be due to a slow or bad network connection. Possible fixes:\\n\"+\n",
       "     \"</p>\\n\"+\n",
       "     \"<ul>\\n\"+\n",
       "     \"<li>re-rerun `output_notebook()` to attempt to load from CDN again, or</li>\\n\"+\n",
       "     \"<li>use INLINE resources instead, as so:</li>\\n\"+\n",
       "     \"</ul>\\n\"+\n",
       "     \"<code>\\n\"+\n",
       "     \"from bokeh.resources import INLINE\\n\"+\n",
       "     \"output_notebook(resources=INLINE)\\n\"+\n",
       "     \"</code>\\n\"+\n",
       "     \"</div>\"}};\n",
       "\n",
       "  function display_loaded(error = null) {\n",
       "    const el = document.getElementById(\"fdba9c50-23b2-4f27-8e63-5ae898eb65b7\");\n",
       "    if (el != null) {\n",
       "      const html = (() => {\n",
       "        if (typeof root.Bokeh === \"undefined\") {\n",
       "          if (error == null) {\n",
       "            return \"BokehJS is loading ...\";\n",
       "          } else {\n",
       "            return \"BokehJS failed to load.\";\n",
       "          }\n",
       "        } else {\n",
       "          const prefix = `BokehJS ${root.Bokeh.version}`;\n",
       "          if (error == null) {\n",
       "            return `${prefix} successfully loaded.`;\n",
       "          } else {\n",
       "            return `${prefix} <b>encountered errors</b> while loading and may not function as expected.`;\n",
       "          }\n",
       "        }\n",
       "      })();\n",
       "      el.innerHTML = html;\n",
       "\n",
       "      if (error != null) {\n",
       "        const wrapper = document.createElement(\"div\");\n",
       "        wrapper.style.overflow = \"auto\";\n",
       "        wrapper.style.height = \"5em\";\n",
       "        wrapper.style.resize = \"vertical\";\n",
       "        const content = document.createElement(\"div\");\n",
       "        content.style.fontFamily = \"monospace\";\n",
       "        content.style.whiteSpace = \"pre-wrap\";\n",
       "        content.style.backgroundColor = \"rgb(255, 221, 221)\";\n",
       "        content.textContent = error.stack ?? error.toString();\n",
       "        wrapper.append(content);\n",
       "        el.append(wrapper);\n",
       "      }\n",
       "    } else if (Date.now() < root._bokeh_timeout) {\n",
       "      setTimeout(() => display_loaded(error), 100);\n",
       "    }\n",
       "  }\n",
       "\n",
       "  function run_callbacks() {\n",
       "    try {\n",
       "      root._bokeh_onload_callbacks.forEach(function(callback) {\n",
       "        if (callback != null)\n",
       "          callback();\n",
       "      });\n",
       "    } finally {\n",
       "      delete root._bokeh_onload_callbacks\n",
       "    }\n",
       "    console.debug(\"Bokeh: all callbacks have finished\");\n",
       "  }\n",
       "\n",
       "  function load_libs(css_urls, js_urls, callback) {\n",
       "    if (css_urls == null) css_urls = [];\n",
       "    if (js_urls == null) js_urls = [];\n",
       "\n",
       "    root._bokeh_onload_callbacks.push(callback);\n",
       "    if (root._bokeh_is_loading > 0) {\n",
       "      console.debug(\"Bokeh: BokehJS is being loaded, scheduling callback at\", now());\n",
       "      return null;\n",
       "    }\n",
       "    if (js_urls == null || js_urls.length === 0) {\n",
       "      run_callbacks();\n",
       "      return null;\n",
       "    }\n",
       "    console.debug(\"Bokeh: BokehJS not loaded, scheduling load and callback at\", now());\n",
       "    root._bokeh_is_loading = css_urls.length + js_urls.length;\n",
       "\n",
       "    function on_load() {\n",
       "      root._bokeh_is_loading--;\n",
       "      if (root._bokeh_is_loading === 0) {\n",
       "        console.debug(\"Bokeh: all BokehJS libraries/stylesheets loaded\");\n",
       "        run_callbacks()\n",
       "      }\n",
       "    }\n",
       "\n",
       "    function on_error(url) {\n",
       "      console.error(\"failed to load \" + url);\n",
       "    }\n",
       "\n",
       "    for (let i = 0; i < css_urls.length; i++) {\n",
       "      const url = css_urls[i];\n",
       "      const element = document.createElement(\"link\");\n",
       "      element.onload = on_load;\n",
       "      element.onerror = on_error.bind(null, url);\n",
       "      element.rel = \"stylesheet\";\n",
       "      element.type = \"text/css\";\n",
       "      element.href = url;\n",
       "      console.debug(\"Bokeh: injecting link tag for BokehJS stylesheet: \", url);\n",
       "      document.body.appendChild(element);\n",
       "    }\n",
       "\n",
       "    for (let i = 0; i < js_urls.length; i++) {\n",
       "      const url = js_urls[i];\n",
       "      const element = document.createElement('script');\n",
       "      element.onload = on_load;\n",
       "      element.onerror = on_error.bind(null, url);\n",
       "      element.async = false;\n",
       "      element.src = url;\n",
       "      console.debug(\"Bokeh: injecting script tag for BokehJS library: \", url);\n",
       "      document.head.appendChild(element);\n",
       "    }\n",
       "  };\n",
       "\n",
       "  function inject_raw_css(css) {\n",
       "    const element = document.createElement(\"style\");\n",
       "    element.appendChild(document.createTextNode(css));\n",
       "    document.body.appendChild(element);\n",
       "  }\n",
       "\n",
       "  const js_urls = [\"https://cdn.bokeh.org/bokeh/release/bokeh-3.5.0.min.js\", \"https://cdn.bokeh.org/bokeh/release/bokeh-gl-3.5.0.min.js\", \"https://cdn.bokeh.org/bokeh/release/bokeh-widgets-3.5.0.min.js\", \"https://cdn.bokeh.org/bokeh/release/bokeh-tables-3.5.0.min.js\", \"https://cdn.bokeh.org/bokeh/release/bokeh-mathjax-3.5.0.min.js\"];\n",
       "  const css_urls = [];\n",
       "\n",
       "  const inline_js = [    function(Bokeh) {\n",
       "      Bokeh.set_log_level(\"info\");\n",
       "    },\n",
       "function(Bokeh) {\n",
       "    }\n",
       "  ];\n",
       "\n",
       "  function run_inline_js() {\n",
       "    if (root.Bokeh !== undefined || force === true) {\n",
       "      try {\n",
       "            for (let i = 0; i < inline_js.length; i++) {\n",
       "      inline_js[i].call(root, root.Bokeh);\n",
       "    }\n",
       "\n",
       "      } catch (error) {display_loaded(error);throw error;\n",
       "      }if (force === true) {\n",
       "        display_loaded();\n",
       "      }} else if (Date.now() < root._bokeh_timeout) {\n",
       "      setTimeout(run_inline_js, 100);\n",
       "    } else if (!root._bokeh_failed_load) {\n",
       "      console.log(\"Bokeh: BokehJS failed to load within specified timeout.\");\n",
       "      root._bokeh_failed_load = true;\n",
       "    } else if (force !== true) {\n",
       "      const cell = $(document.getElementById(\"fdba9c50-23b2-4f27-8e63-5ae898eb65b7\")).parents('.cell').data().cell;\n",
       "      cell.output_area.append_execute_result(NB_LOAD_WARNING)\n",
       "    }\n",
       "  }\n",
       "\n",
       "  if (root._bokeh_is_loading === 0) {\n",
       "    console.debug(\"Bokeh: BokehJS loaded, going straight to plotting\");\n",
       "    run_inline_js();\n",
       "  } else {\n",
       "    load_libs(css_urls, js_urls, function() {\n",
       "      console.debug(\"Bokeh: BokehJS plotting callback run at\", now());\n",
       "      run_inline_js();\n",
       "    });\n",
       "  }\n",
       "}(window));"
      ],
      "application/vnd.bokehjs_load.v0+json": "'use strict';\n(function(root) {\n  function now() {\n    return new Date();\n  }\n\n  const force = true;\n\n  if (typeof root._bokeh_onload_callbacks === \"undefined\" || force === true) {\n    root._bokeh_onload_callbacks = [];\n    root._bokeh_is_loading = undefined;\n  }\n\n\n  if (typeof (root._bokeh_timeout) === \"undefined\" || force === true) {\n    root._bokeh_timeout = Date.now() + 5000;\n    root._bokeh_failed_load = false;\n  }\n\n  const NB_LOAD_WARNING = {'data': {'text/html':\n     \"<div style='background-color: #fdd'>\\n\"+\n     \"<p>\\n\"+\n     \"BokehJS does not appear to have successfully loaded. If loading BokehJS from CDN, this \\n\"+\n     \"may be due to a slow or bad network connection. Possible fixes:\\n\"+\n     \"</p>\\n\"+\n     \"<ul>\\n\"+\n     \"<li>re-rerun `output_notebook()` to attempt to load from CDN again, or</li>\\n\"+\n     \"<li>use INLINE resources instead, as so:</li>\\n\"+\n     \"</ul>\\n\"+\n     \"<code>\\n\"+\n     \"from bokeh.resources import INLINE\\n\"+\n     \"output_notebook(resources=INLINE)\\n\"+\n     \"</code>\\n\"+\n     \"</div>\"}};\n\n  function display_loaded(error = null) {\n    const el = document.getElementById(\"fdba9c50-23b2-4f27-8e63-5ae898eb65b7\");\n    if (el != null) {\n      const html = (() => {\n        if (typeof root.Bokeh === \"undefined\") {\n          if (error == null) {\n            return \"BokehJS is loading ...\";\n          } else {\n            return \"BokehJS failed to load.\";\n          }\n        } else {\n          const prefix = `BokehJS ${root.Bokeh.version}`;\n          if (error == null) {\n            return `${prefix} successfully loaded.`;\n          } else {\n            return `${prefix} <b>encountered errors</b> while loading and may not function as expected.`;\n          }\n        }\n      })();\n      el.innerHTML = html;\n\n      if (error != null) {\n        const wrapper = document.createElement(\"div\");\n        wrapper.style.overflow = \"auto\";\n        wrapper.style.height = \"5em\";\n        wrapper.style.resize = \"vertical\";\n        const content = document.createElement(\"div\");\n        content.style.fontFamily = \"monospace\";\n        content.style.whiteSpace = \"pre-wrap\";\n        content.style.backgroundColor = \"rgb(255, 221, 221)\";\n        content.textContent = error.stack ?? error.toString();\n        wrapper.append(content);\n        el.append(wrapper);\n      }\n    } else if (Date.now() < root._bokeh_timeout) {\n      setTimeout(() => display_loaded(error), 100);\n    }\n  }\n\n  function run_callbacks() {\n    try {\n      root._bokeh_onload_callbacks.forEach(function(callback) {\n        if (callback != null)\n          callback();\n      });\n    } finally {\n      delete root._bokeh_onload_callbacks\n    }\n    console.debug(\"Bokeh: all callbacks have finished\");\n  }\n\n  function load_libs(css_urls, js_urls, callback) {\n    if (css_urls == null) css_urls = [];\n    if (js_urls == null) js_urls = [];\n\n    root._bokeh_onload_callbacks.push(callback);\n    if (root._bokeh_is_loading > 0) {\n      console.debug(\"Bokeh: BokehJS is being loaded, scheduling callback at\", now());\n      return null;\n    }\n    if (js_urls == null || js_urls.length === 0) {\n      run_callbacks();\n      return null;\n    }\n    console.debug(\"Bokeh: BokehJS not loaded, scheduling load and callback at\", now());\n    root._bokeh_is_loading = css_urls.length + js_urls.length;\n\n    function on_load() {\n      root._bokeh_is_loading--;\n      if (root._bokeh_is_loading === 0) {\n        console.debug(\"Bokeh: all BokehJS libraries/stylesheets loaded\");\n        run_callbacks()\n      }\n    }\n\n    function on_error(url) {\n      console.error(\"failed to load \" + url);\n    }\n\n    for (let i = 0; i < css_urls.length; i++) {\n      const url = css_urls[i];\n      const element = document.createElement(\"link\");\n      element.onload = on_load;\n      element.onerror = on_error.bind(null, url);\n      element.rel = \"stylesheet\";\n      element.type = \"text/css\";\n      element.href = url;\n      console.debug(\"Bokeh: injecting link tag for BokehJS stylesheet: \", url);\n      document.body.appendChild(element);\n    }\n\n    for (let i = 0; i < js_urls.length; i++) {\n      const url = js_urls[i];\n      const element = document.createElement('script');\n      element.onload = on_load;\n      element.onerror = on_error.bind(null, url);\n      element.async = false;\n      element.src = url;\n      console.debug(\"Bokeh: injecting script tag for BokehJS library: \", url);\n      document.head.appendChild(element);\n    }\n  };\n\n  function inject_raw_css(css) {\n    const element = document.createElement(\"style\");\n    element.appendChild(document.createTextNode(css));\n    document.body.appendChild(element);\n  }\n\n  const js_urls = [\"https://cdn.bokeh.org/bokeh/release/bokeh-3.5.0.min.js\", \"https://cdn.bokeh.org/bokeh/release/bokeh-gl-3.5.0.min.js\", \"https://cdn.bokeh.org/bokeh/release/bokeh-widgets-3.5.0.min.js\", \"https://cdn.bokeh.org/bokeh/release/bokeh-tables-3.5.0.min.js\", \"https://cdn.bokeh.org/bokeh/release/bokeh-mathjax-3.5.0.min.js\"];\n  const css_urls = [];\n\n  const inline_js = [    function(Bokeh) {\n      Bokeh.set_log_level(\"info\");\n    },\nfunction(Bokeh) {\n    }\n  ];\n\n  function run_inline_js() {\n    if (root.Bokeh !== undefined || force === true) {\n      try {\n            for (let i = 0; i < inline_js.length; i++) {\n      inline_js[i].call(root, root.Bokeh);\n    }\n\n      } catch (error) {display_loaded(error);throw error;\n      }if (force === true) {\n        display_loaded();\n      }} else if (Date.now() < root._bokeh_timeout) {\n      setTimeout(run_inline_js, 100);\n    } else if (!root._bokeh_failed_load) {\n      console.log(\"Bokeh: BokehJS failed to load within specified timeout.\");\n      root._bokeh_failed_load = true;\n    } else if (force !== true) {\n      const cell = $(document.getElementById(\"fdba9c50-23b2-4f27-8e63-5ae898eb65b7\")).parents('.cell').data().cell;\n      cell.output_area.append_execute_result(NB_LOAD_WARNING)\n    }\n  }\n\n  if (root._bokeh_is_loading === 0) {\n    console.debug(\"Bokeh: BokehJS loaded, going straight to plotting\");\n    run_inline_js();\n  } else {\n    load_libs(css_urls, js_urls, function() {\n      console.debug(\"Bokeh: BokehJS plotting callback run at\", now());\n      run_inline_js();\n    });\n  }\n}(window));"
     },
     "metadata": {},
     "output_type": "display_data"
    }
   ],
   "source": [
    "import bokeh.plotting as plt\n",
    "from bokeh.io import output_notebook\n",
    "output_notebook()"
   ]
  },
  {
   "cell_type": "markdown",
   "id": "fedf0834-ef21-4a1f-b43d-25299344f2d2",
   "metadata": {},
   "source": [
    "The first component of the symmetry-adapted Hencky strain, $e_1$, corresponds to volume change."
   ]
  },
  {
   "cell_type": "code",
   "execution_count": 26,
   "id": "b3ac81db-ffc4-4ddf-9cb1-d254a02a47a1",
   "metadata": {},
   "outputs": [
    {
     "data": {
      "text/html": [
       "\n",
       "  <div id=\"d231871a-0cb4-4ec5-824b-06cd8fd01dbb\" data-root-id=\"p1001\" style=\"display: contents;\"></div>\n"
      ]
     },
     "metadata": {},
     "output_type": "display_data"
    },
    {
     "data": {
      "application/javascript": [
       "(function(root) {\n",
       "  function embed_document(root) {\n",
       "  const docs_json = {\"b529b090-6524-4a3d-8bd5-7f26fe1f08c8\":{\"version\":\"3.5.0\",\"title\":\"Bokeh Application\",\"roots\":[{\"type\":\"object\",\"name\":\"Figure\",\"id\":\"p1001\",\"attributes\":{\"x_range\":{\"type\":\"object\",\"name\":\"DataRange1d\",\"id\":\"p1002\"},\"y_range\":{\"type\":\"object\",\"name\":\"DataRange1d\",\"id\":\"p1003\"},\"x_scale\":{\"type\":\"object\",\"name\":\"LinearScale\",\"id\":\"p1011\"},\"y_scale\":{\"type\":\"object\",\"name\":\"LinearScale\",\"id\":\"p1012\"},\"title\":{\"type\":\"object\",\"name\":\"Title\",\"id\":\"p1004\",\"attributes\":{\"text\":\"e_1 strain\"}},\"renderers\":[{\"type\":\"object\",\"name\":\"GlyphRenderer\",\"id\":\"p1042\",\"attributes\":{\"data_source\":{\"type\":\"object\",\"name\":\"ColumnDataSource\",\"id\":\"p1036\",\"attributes\":{\"selected\":{\"type\":\"object\",\"name\":\"Selection\",\"id\":\"p1037\",\"attributes\":{\"indices\":[],\"line_indices\":[]}},\"selection_policy\":{\"type\":\"object\",\"name\":\"UnionRenderers\",\"id\":\"p1038\"},\"data\":{\"type\":\"map\",\"entries\":[[\"x\",[0.375,0.875,0.25,0.25,0.875,0.375,0.875,0.25,0.75,0.75,0.875,0.6666666666666666,0.16666666666666666,0.3333333333333333,0.6666666666666666,0.6666666666666666,0.3333333333333333,0.3333333333333333,0.3333333333333333,0.6666666666666666,0.875,0.6666666666666666,0.16666666666666666,0.3333333333333333,0.6666666666666666,0.3333333333333333,0.8333333333333334,0.0,1.0,0.5,0.25,0.75,0.125,0.875,0.6666666666666666,0.16666666666666666,0.3333333333333333,0.3333333333333333]],[\"y\",[0.009587381738636398,-0.03169484827072252,0.021117056595819583,0.02126495774192513,-0.031709033846246605,0.00994462405872304,-0.03182621927883613,0.0208649029623792,-0.022352269144908208,-0.021868421843606736,-0.03177834228685854,-0.014450246212341616,0.029015248517997062,0.01413431044124597,-0.015566841856376235,-0.0149876921582778,0.014000827055444628,0.013115150893822269,0.013057717991685702,-0.015672057465319925,-0.031569183756271824,-0.014949623325966322,0.02870523816907146,0.013534467392952894,-0.015379432109442159,0.013399618297804337,-0.02853664162062964,0.04546876551906427,-0.0411291453921134,-0.00233236569596593,0.021224044986237325,-0.021555306442398177,0.03289202558256158,-0.031744611138764645,-0.01591125993547722,0.028723932409213084,0.013708531934573462,0.013080467016285]]]}}},\"view\":{\"type\":\"object\",\"name\":\"CDSView\",\"id\":\"p1043\",\"attributes\":{\"filter\":{\"type\":\"object\",\"name\":\"AllIndices\",\"id\":\"p1044\"}}},\"glyph\":{\"type\":\"object\",\"name\":\"Scatter\",\"id\":\"p1039\",\"attributes\":{\"x\":{\"type\":\"field\",\"field\":\"x\"},\"y\":{\"type\":\"field\",\"field\":\"y\"},\"line_color\":{\"type\":\"value\",\"value\":\"#1f77b4\"},\"fill_color\":{\"type\":\"value\",\"value\":\"#1f77b4\"}}},\"nonselection_glyph\":{\"type\":\"object\",\"name\":\"Scatter\",\"id\":\"p1040\",\"attributes\":{\"x\":{\"type\":\"field\",\"field\":\"x\"},\"y\":{\"type\":\"field\",\"field\":\"y\"},\"line_color\":{\"type\":\"value\",\"value\":\"#1f77b4\"},\"line_alpha\":{\"type\":\"value\",\"value\":0.1},\"fill_color\":{\"type\":\"value\",\"value\":\"#1f77b4\"},\"fill_alpha\":{\"type\":\"value\",\"value\":0.1},\"hatch_alpha\":{\"type\":\"value\",\"value\":0.1}}},\"muted_glyph\":{\"type\":\"object\",\"name\":\"Scatter\",\"id\":\"p1041\",\"attributes\":{\"x\":{\"type\":\"field\",\"field\":\"x\"},\"y\":{\"type\":\"field\",\"field\":\"y\"},\"line_color\":{\"type\":\"value\",\"value\":\"#1f77b4\"},\"line_alpha\":{\"type\":\"value\",\"value\":0.2},\"fill_color\":{\"type\":\"value\",\"value\":\"#1f77b4\"},\"fill_alpha\":{\"type\":\"value\",\"value\":0.2},\"hatch_alpha\":{\"type\":\"value\",\"value\":0.2}}}}}],\"toolbar\":{\"type\":\"object\",\"name\":\"Toolbar\",\"id\":\"p1010\",\"attributes\":{\"tools\":[{\"type\":\"object\",\"name\":\"PanTool\",\"id\":\"p1023\"},{\"type\":\"object\",\"name\":\"WheelZoomTool\",\"id\":\"p1024\",\"attributes\":{\"renderers\":\"auto\"}},{\"type\":\"object\",\"name\":\"BoxZoomTool\",\"id\":\"p1025\",\"attributes\":{\"overlay\":{\"type\":\"object\",\"name\":\"BoxAnnotation\",\"id\":\"p1026\",\"attributes\":{\"syncable\":false,\"line_color\":\"black\",\"line_alpha\":1.0,\"line_width\":2,\"line_dash\":[4,4],\"fill_color\":\"lightgrey\",\"fill_alpha\":0.5,\"level\":\"overlay\",\"visible\":false,\"left\":{\"type\":\"number\",\"value\":\"nan\"},\"right\":{\"type\":\"number\",\"value\":\"nan\"},\"top\":{\"type\":\"number\",\"value\":\"nan\"},\"bottom\":{\"type\":\"number\",\"value\":\"nan\"},\"left_units\":\"canvas\",\"right_units\":\"canvas\",\"top_units\":\"canvas\",\"bottom_units\":\"canvas\",\"handles\":{\"type\":\"object\",\"name\":\"BoxInteractionHandles\",\"id\":\"p1032\",\"attributes\":{\"all\":{\"type\":\"object\",\"name\":\"AreaVisuals\",\"id\":\"p1031\",\"attributes\":{\"fill_color\":\"white\",\"hover_fill_color\":\"lightgray\"}}}}}}}},{\"type\":\"object\",\"name\":\"SaveTool\",\"id\":\"p1033\"},{\"type\":\"object\",\"name\":\"ResetTool\",\"id\":\"p1034\"},{\"type\":\"object\",\"name\":\"HelpTool\",\"id\":\"p1035\"}]}},\"left\":[{\"type\":\"object\",\"name\":\"LinearAxis\",\"id\":\"p1018\",\"attributes\":{\"ticker\":{\"type\":\"object\",\"name\":\"BasicTicker\",\"id\":\"p1019\",\"attributes\":{\"mantissas\":[1,2,5]}},\"formatter\":{\"type\":\"object\",\"name\":\"BasicTickFormatter\",\"id\":\"p1020\"},\"axis_label\":\"e_1\",\"major_label_policy\":{\"type\":\"object\",\"name\":\"AllLabels\",\"id\":\"p1021\"}}}],\"below\":[{\"type\":\"object\",\"name\":\"LinearAxis\",\"id\":\"p1013\",\"attributes\":{\"ticker\":{\"type\":\"object\",\"name\":\"BasicTicker\",\"id\":\"p1014\",\"attributes\":{\"mantissas\":[1,2,5]}},\"formatter\":{\"type\":\"object\",\"name\":\"BasicTickFormatter\",\"id\":\"p1015\"},\"axis_label\":\"x_Si\",\"major_label_policy\":{\"type\":\"object\",\"name\":\"AllLabels\",\"id\":\"p1016\"}}}],\"center\":[{\"type\":\"object\",\"name\":\"Grid\",\"id\":\"p1017\",\"attributes\":{\"axis\":{\"id\":\"p1013\"}}},{\"type\":\"object\",\"name\":\"Grid\",\"id\":\"p1022\",\"attributes\":{\"dimension\":1,\"axis\":{\"id\":\"p1018\"}}}]}}]}};\n",
       "  const render_items = [{\"docid\":\"b529b090-6524-4a3d-8bd5-7f26fe1f08c8\",\"roots\":{\"p1001\":\"d231871a-0cb4-4ec5-824b-06cd8fd01dbb\"},\"root_ids\":[\"p1001\"]}];\n",
       "  void root.Bokeh.embed.embed_items_notebook(docs_json, render_items);\n",
       "  }\n",
       "  if (root.Bokeh !== undefined) {\n",
       "    embed_document(root);\n",
       "  } else {\n",
       "    let attempts = 0;\n",
       "    const timer = setInterval(function(root) {\n",
       "      if (root.Bokeh !== undefined) {\n",
       "        clearInterval(timer);\n",
       "        embed_document(root);\n",
       "      } else {\n",
       "        attempts++;\n",
       "        if (attempts > 100) {\n",
       "          clearInterval(timer);\n",
       "          console.log(\"Bokeh: ERROR: Unable to run BokehJS code because BokehJS library is missing\");\n",
       "        }\n",
       "      }\n",
       "    }, 10, root)\n",
       "  }\n",
       "})(window);"
      ],
      "application/vnd.bokehjs_exec.v0+json": ""
     },
     "metadata": {
      "application/vnd.bokehjs_exec.v0+json": {
       "id": "p1001"
      }
     },
     "output_type": "display_data"
    }
   ],
   "source": [
    "e1 = [i['symmetry_adapted_hencky_strain'][0] for i in config_props]\n",
    "atom_fraction_Si = [i['atom_fraction_Si'] for i in config_props]\n",
    "p = plt.figure(title='e_1 strain', x_axis_label='x_Si', y_axis_label='e_1')\n",
    "p.scatter(atom_fraction_Si, e1)\n",
    "plt.show(p)"
   ]
  },
  {
   "cell_type": "markdown",
   "id": "98822195-8ac8-46f8-aa0e-2366a7de7e11",
   "metadata": {},
   "source": [
    "We can get further information about the deformation during relaxation by also including atomic deformation cost."
   ]
  },
  {
   "cell_type": "code",
   "execution_count": null,
   "id": "e5ae680f-ce11-4bbf-a38a-5e7b7a671423",
   "metadata": {},
   "outputs": [],
   "source": [
    "# atom_cost = [i['structure_mapping'].atom_mapping().atom_cost() for i in config_props]\n",
    "# atom_fraction_Si = [i['atom_fraction_Si'] for i in config_props]\n",
    "# p = plt.figure(title='e_1 strain', x_axis_label='x_Si', y_axis_label='e_1')\n",
    "# p.scatter(atom_fraction_Si, e1)\n",
    "# plt.show(p)"
   ]
  },
  {
   "cell_type": "markdown",
   "id": "13f82f91-c3cf-458a-be48-3c07edf4e431",
   "metadata": {},
   "source": [
    "We can compare the different lattice cost metrics."
   ]
  },
  {
   "cell_type": "code",
   "execution_count": 37,
   "id": "420f7880-387d-48b1-afd3-e766caccd61a",
   "metadata": {},
   "outputs": [
    {
     "data": {
      "text/html": [
       "\n",
       "  <div id=\"b43ef34c-2199-4bfa-9de2-f93bf4087dbd\" data-root-id=\"p1324\" style=\"display: contents;\"></div>\n"
      ]
     },
     "metadata": {},
     "output_type": "display_data"
    },
    {
     "data": {
      "application/javascript": [
       "(function(root) {\n",
       "  function embed_document(root) {\n",
       "  const docs_json = {\"c228ba9f-d9a4-4c86-a1ae-81a7a625131f\":{\"version\":\"3.5.0\",\"title\":\"Bokeh Application\",\"roots\":[{\"type\":\"object\",\"name\":\"Figure\",\"id\":\"p1324\",\"attributes\":{\"x_range\":{\"type\":\"object\",\"name\":\"DataRange1d\",\"id\":\"p1325\"},\"y_range\":{\"type\":\"object\",\"name\":\"DataRange1d\",\"id\":\"p1326\"},\"x_scale\":{\"type\":\"object\",\"name\":\"LinearScale\",\"id\":\"p1334\"},\"y_scale\":{\"type\":\"object\",\"name\":\"LinearScale\",\"id\":\"p1335\"},\"title\":{\"type\":\"object\",\"name\":\"Title\",\"id\":\"p1327\",\"attributes\":{\"text\":\"lattice cost\"}},\"renderers\":[{\"type\":\"object\",\"name\":\"GlyphRenderer\",\"id\":\"p1365\",\"attributes\":{\"data_source\":{\"type\":\"object\",\"name\":\"ColumnDataSource\",\"id\":\"p1359\",\"attributes\":{\"selected\":{\"type\":\"object\",\"name\":\"Selection\",\"id\":\"p1360\",\"attributes\":{\"indices\":[],\"line_indices\":[]}},\"selection_policy\":{\"type\":\"object\",\"name\":\"UnionRenderers\",\"id\":\"p1361\"},\"data\":{\"type\":\"map\",\"entries\":[[\"x\",[0.375,0.875,0.25,0.25,0.875,0.375,0.875,0.25,0.75,0.75,0.875,0.6666666666666666,0.16666666666666666,0.3333333333333333,0.6666666666666666,0.6666666666666666,0.3333333333333333,0.3333333333333333,0.3333333333333333,0.6666666666666666,0.875,0.6666666666666666,0.16666666666666666,0.3333333333333333,0.6666666666666666,0.3333333333333333,0.8333333333333334,0.0,1.0,0.5,0.25,0.75,0.125,0.875,0.6666666666666666,0.16666666666666666,0.3333333333333333,0.3333333333333333]],[\"y\",[1.377680569084258e-07,1.09507517020374e-09,6.525841064628104e-08,1.0152587019812623e-07,1.0707949645666606e-09,6.682666462382229e-08,0.0,1.570167210324035e-08,8.5049890234787e-12,5.8940189143773825e-08,8.005421559862442e-10,1.0384328860983994e-07,3.6009956731061904e-09,1.593322537824862e-07,1.8531233387018927e-09,1.0229526299435424e-07,2.455684629863091e-08,6.954705967618278e-09,1.5672965942452219e-09,1.0496401578399477e-10,4.3737683118160324e-10,1.2421656325747412e-07,1.2975106336715974e-08,1.9002962208926517e-07,1.1500952212683339e-07,1.2499965509984336e-07,4.381279717717506e-09,0.0,0.0,0.0,1.4915442493741514e-07,5.5912760377620876e-08,1.2135287838554187e-10,3.242936121620911e-09,9.063701294442785e-10,3.573427756976036e-08,3.688062147867497e-07,2.538890472968066e-08]]]}}},\"view\":{\"type\":\"object\",\"name\":\"CDSView\",\"id\":\"p1366\",\"attributes\":{\"filter\":{\"type\":\"object\",\"name\":\"AllIndices\",\"id\":\"p1367\"}}},\"glyph\":{\"type\":\"object\",\"name\":\"Scatter\",\"id\":\"p1362\",\"attributes\":{\"x\":{\"type\":\"field\",\"field\":\"x\"},\"y\":{\"type\":\"field\",\"field\":\"y\"},\"line_color\":{\"type\":\"value\",\"value\":\"blue\"},\"fill_color\":{\"type\":\"value\",\"value\":\"blue\"},\"hatch_color\":{\"type\":\"value\",\"value\":\"blue\"}}},\"nonselection_glyph\":{\"type\":\"object\",\"name\":\"Scatter\",\"id\":\"p1363\",\"attributes\":{\"x\":{\"type\":\"field\",\"field\":\"x\"},\"y\":{\"type\":\"field\",\"field\":\"y\"},\"line_color\":{\"type\":\"value\",\"value\":\"blue\"},\"line_alpha\":{\"type\":\"value\",\"value\":0.1},\"fill_color\":{\"type\":\"value\",\"value\":\"blue\"},\"fill_alpha\":{\"type\":\"value\",\"value\":0.1},\"hatch_color\":{\"type\":\"value\",\"value\":\"blue\"},\"hatch_alpha\":{\"type\":\"value\",\"value\":0.1}}},\"muted_glyph\":{\"type\":\"object\",\"name\":\"Scatter\",\"id\":\"p1364\",\"attributes\":{\"x\":{\"type\":\"field\",\"field\":\"x\"},\"y\":{\"type\":\"field\",\"field\":\"y\"},\"line_color\":{\"type\":\"value\",\"value\":\"blue\"},\"line_alpha\":{\"type\":\"value\",\"value\":0.2},\"fill_color\":{\"type\":\"value\",\"value\":\"blue\"},\"fill_alpha\":{\"type\":\"value\",\"value\":0.2},\"hatch_color\":{\"type\":\"value\",\"value\":\"blue\"},\"hatch_alpha\":{\"type\":\"value\",\"value\":0.2}}}}},{\"type\":\"object\",\"name\":\"GlyphRenderer\",\"id\":\"p1376\",\"attributes\":{\"data_source\":{\"type\":\"object\",\"name\":\"ColumnDataSource\",\"id\":\"p1370\",\"attributes\":{\"selected\":{\"type\":\"object\",\"name\":\"Selection\",\"id\":\"p1371\",\"attributes\":{\"indices\":[],\"line_indices\":[]}},\"selection_policy\":{\"type\":\"object\",\"name\":\"UnionRenderers\",\"id\":\"p1372\"},\"data\":{\"type\":\"map\",\"entries\":[[\"x\",[0.375,0.875,0.25,0.25,0.875,0.375,0.875,0.25,0.75,0.75,0.875,0.6666666666666666,0.16666666666666666,0.3333333333333333,0.6666666666666666,0.6666666666666666,0.3333333333333333,0.3333333333333333,0.3333333333333333,0.6666666666666666,0.875,0.6666666666666666,0.16666666666666666,0.3333333333333333,0.6666666666666666,0.3333333333333333,0.8333333333333334,0.0,1.0,0.5,0.25,0.75,0.125,0.875,0.6666666666666666,0.16666666666666666,0.3333333333333333,0.3333333333333333]],[\"y\",[2.689590400411912e-33,1.9930845171606928e-19,3.4585840743062686e-32,1.9557429270094702e-32,2.2674822255978158e-32,3.9094340098166965e-08,1.9721522630525295e-31,3.2869204384208823e-32,9.860761315262648e-32,5.534102391241377e-08,2.657472358551725e-19,1.674762154609114e-31,1.1600550423602536e-31,4.3833883611525014e-32,2.0311959512646507e-31,1.570019652112804e-31,4.283943261294608e-31,5.361225291449498e-32,4.463486145202532e-33,9.853094000993798e-32,1.1915086589275698e-31,2.3610038695455844e-19,1.181325250517921e-19,3.3305140016155326e-32,3.713379372719271e-08,5.4153767057894277e-08,1.1812067996074483e-19,4.437342591868191e-31,7.888609052210118e-31,1.115498623789087e-30,0.0,3.338278570271209e-32,0.0,2.0543252740130515e-33,8.231080503737823e-32,8.217655286020398e-32,1.787323035179085e-07,2.1365054188832355e-31]]]}}},\"view\":{\"type\":\"object\",\"name\":\"CDSView\",\"id\":\"p1377\",\"attributes\":{\"filter\":{\"type\":\"object\",\"name\":\"AllIndices\",\"id\":\"p1378\"}}},\"glyph\":{\"type\":\"object\",\"name\":\"Scatter\",\"id\":\"p1373\",\"attributes\":{\"x\":{\"type\":\"field\",\"field\":\"x\"},\"y\":{\"type\":\"field\",\"field\":\"y\"},\"line_color\":{\"type\":\"value\",\"value\":\"orange\"},\"fill_color\":{\"type\":\"value\",\"value\":\"orange\"},\"hatch_color\":{\"type\":\"value\",\"value\":\"orange\"}}},\"nonselection_glyph\":{\"type\":\"object\",\"name\":\"Scatter\",\"id\":\"p1374\",\"attributes\":{\"x\":{\"type\":\"field\",\"field\":\"x\"},\"y\":{\"type\":\"field\",\"field\":\"y\"},\"line_color\":{\"type\":\"value\",\"value\":\"orange\"},\"line_alpha\":{\"type\":\"value\",\"value\":0.1},\"fill_color\":{\"type\":\"value\",\"value\":\"orange\"},\"fill_alpha\":{\"type\":\"value\",\"value\":0.1},\"hatch_color\":{\"type\":\"value\",\"value\":\"orange\"},\"hatch_alpha\":{\"type\":\"value\",\"value\":0.1}}},\"muted_glyph\":{\"type\":\"object\",\"name\":\"Scatter\",\"id\":\"p1375\",\"attributes\":{\"x\":{\"type\":\"field\",\"field\":\"x\"},\"y\":{\"type\":\"field\",\"field\":\"y\"},\"line_color\":{\"type\":\"value\",\"value\":\"orange\"},\"line_alpha\":{\"type\":\"value\",\"value\":0.2},\"fill_color\":{\"type\":\"value\",\"value\":\"orange\"},\"fill_alpha\":{\"type\":\"value\",\"value\":0.2},\"hatch_color\":{\"type\":\"value\",\"value\":\"orange\"},\"hatch_alpha\":{\"type\":\"value\",\"value\":0.2}}}}}],\"toolbar\":{\"type\":\"object\",\"name\":\"Toolbar\",\"id\":\"p1333\",\"attributes\":{\"tools\":[{\"type\":\"object\",\"name\":\"PanTool\",\"id\":\"p1346\"},{\"type\":\"object\",\"name\":\"WheelZoomTool\",\"id\":\"p1347\",\"attributes\":{\"renderers\":\"auto\"}},{\"type\":\"object\",\"name\":\"BoxZoomTool\",\"id\":\"p1348\",\"attributes\":{\"overlay\":{\"type\":\"object\",\"name\":\"BoxAnnotation\",\"id\":\"p1349\",\"attributes\":{\"syncable\":false,\"line_color\":\"black\",\"line_alpha\":1.0,\"line_width\":2,\"line_dash\":[4,4],\"fill_color\":\"lightgrey\",\"fill_alpha\":0.5,\"level\":\"overlay\",\"visible\":false,\"left\":{\"type\":\"number\",\"value\":\"nan\"},\"right\":{\"type\":\"number\",\"value\":\"nan\"},\"top\":{\"type\":\"number\",\"value\":\"nan\"},\"bottom\":{\"type\":\"number\",\"value\":\"nan\"},\"left_units\":\"canvas\",\"right_units\":\"canvas\",\"top_units\":\"canvas\",\"bottom_units\":\"canvas\",\"handles\":{\"type\":\"object\",\"name\":\"BoxInteractionHandles\",\"id\":\"p1355\",\"attributes\":{\"all\":{\"type\":\"object\",\"name\":\"AreaVisuals\",\"id\":\"p1354\",\"attributes\":{\"fill_color\":\"white\",\"hover_fill_color\":\"lightgray\"}}}}}}}},{\"type\":\"object\",\"name\":\"SaveTool\",\"id\":\"p1356\"},{\"type\":\"object\",\"name\":\"ResetTool\",\"id\":\"p1357\"},{\"type\":\"object\",\"name\":\"HelpTool\",\"id\":\"p1358\"}]}},\"left\":[{\"type\":\"object\",\"name\":\"LinearAxis\",\"id\":\"p1341\",\"attributes\":{\"ticker\":{\"type\":\"object\",\"name\":\"BasicTicker\",\"id\":\"p1342\",\"attributes\":{\"mantissas\":[1,2,5]}},\"formatter\":{\"type\":\"object\",\"name\":\"BasicTickFormatter\",\"id\":\"p1343\"},\"axis_label\":\"cost\",\"major_label_policy\":{\"type\":\"object\",\"name\":\"AllLabels\",\"id\":\"p1344\"}}}],\"below\":[{\"type\":\"object\",\"name\":\"LinearAxis\",\"id\":\"p1336\",\"attributes\":{\"ticker\":{\"type\":\"object\",\"name\":\"BasicTicker\",\"id\":\"p1337\",\"attributes\":{\"mantissas\":[1,2,5]}},\"formatter\":{\"type\":\"object\",\"name\":\"BasicTickFormatter\",\"id\":\"p1338\"},\"axis_label\":\"x_Si\",\"major_label_policy\":{\"type\":\"object\",\"name\":\"AllLabels\",\"id\":\"p1339\"}}}],\"center\":[{\"type\":\"object\",\"name\":\"Grid\",\"id\":\"p1340\",\"attributes\":{\"axis\":{\"id\":\"p1336\"}}},{\"type\":\"object\",\"name\":\"Grid\",\"id\":\"p1345\",\"attributes\":{\"dimension\":1,\"axis\":{\"id\":\"p1341\"}}},{\"type\":\"object\",\"name\":\"Legend\",\"id\":\"p1368\",\"attributes\":{\"items\":[{\"type\":\"object\",\"name\":\"LegendItem\",\"id\":\"p1369\",\"attributes\":{\"label\":{\"type\":\"value\",\"value\":\"isotropic\"},\"renderers\":[{\"id\":\"p1365\"}]}},{\"type\":\"object\",\"name\":\"LegendItem\",\"id\":\"p1379\",\"attributes\":{\"label\":{\"type\":\"value\",\"value\":\"symmetry_breaking\"},\"renderers\":[{\"id\":\"p1376\"}]}}]}}]}}]}};\n",
       "  const render_items = [{\"docid\":\"c228ba9f-d9a4-4c86-a1ae-81a7a625131f\",\"roots\":{\"p1324\":\"b43ef34c-2199-4bfa-9de2-f93bf4087dbd\"},\"root_ids\":[\"p1324\"]}];\n",
       "  void root.Bokeh.embed.embed_items_notebook(docs_json, render_items);\n",
       "  }\n",
       "  if (root.Bokeh !== undefined) {\n",
       "    embed_document(root);\n",
       "  } else {\n",
       "    let attempts = 0;\n",
       "    const timer = setInterval(function(root) {\n",
       "      if (root.Bokeh !== undefined) {\n",
       "        clearInterval(timer);\n",
       "        embed_document(root);\n",
       "      } else {\n",
       "        attempts++;\n",
       "        if (attempts > 100) {\n",
       "          clearInterval(timer);\n",
       "          console.log(\"Bokeh: ERROR: Unable to run BokehJS code because BokehJS library is missing\");\n",
       "        }\n",
       "      }\n",
       "    }, 10, root)\n",
       "  }\n",
       "})(window);"
      ],
      "application/vnd.bokehjs_exec.v0+json": ""
     },
     "metadata": {
      "application/vnd.bokehjs_exec.v0+json": {
       "id": "p1324"
      }
     },
     "output_type": "display_data"
    }
   ],
   "source": [
    "lattice_isotropic_strain_cost = [i['lattice_isotropic_strain_cost'] for i in config_props]\n",
    "lattice_symmetry_breaking_strain_cost = [i['lattice_symmetry_breaking_strain_cost'] for i in config_props]\n",
    "p = plt.figure(title='lattice cost', x_axis_label='x_Si', y_axis_label='cost')\n",
    "p.scatter(atom_fraction_Si, lattice_isotropic_strain_cost, color='blue', legend_label='isotropic')\n",
    "p.scatter(atom_fraction_Si, lattice_symmetry_breaking_strain_cost, color='orange', legend_label='symmetry_breaking')\n",
    "plt.show(p)"
   ]
  },
  {
   "cell_type": "code",
   "execution_count": null,
   "id": "e297f160-e27a-45e5-b6a7-d22c4651fc15",
   "metadata": {},
   "outputs": [],
   "source": []
  }
 ],
 "metadata": {
  "kernelspec": {
   "display_name": "Python 3 (ipykernel)",
   "language": "python",
   "name": "python3"
  },
  "language_info": {
   "codemirror_mode": {
    "name": "ipython",
    "version": 3
   },
   "file_extension": ".py",
   "mimetype": "text/x-python",
   "name": "python",
   "nbconvert_exporter": "python",
   "pygments_lexer": "ipython3",
   "version": "3.11.9"
  }
 },
 "nbformat": 4,
 "nbformat_minor": 5
}
