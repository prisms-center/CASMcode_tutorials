{
 "cells": [
  {
   "cell_type": "markdown",
   "id": "965acd43-1eab-4fa0-b402-422657f257c1",
   "metadata": {},
   "source": [
    "Read data from completed DFT calculations back into CASM."
   ]
  },
  {
   "cell_type": "markdown",
   "id": "0568e21e-1474-480c-a765-64f97afccfe6",
   "metadata": {},
   "source": [
    "# Create working directory"
   ]
  },
  {
   "cell_type": "code",
   "execution_count": 1,
   "id": "bef7016f-91bc-47c4-8ce0-f707b5193611",
   "metadata": {},
   "outputs": [],
   "source": [
    "import copy\n",
    "import shutil\n",
    "import os"
   ]
  },
  {
   "cell_type": "code",
   "execution_count": 2,
   "id": "4e878387-d47d-4feb-92c9-19eb8a7a43fa",
   "metadata": {},
   "outputs": [],
   "source": [
    "shutil.copytree('input', 'SiGe')\n",
    "os.chdir('SiGe')"
   ]
  },
  {
   "cell_type": "markdown",
   "id": "52224b5c-682b-44b5-bc83-3921435e287e",
   "metadata": {},
   "source": [
    "# Set up project"
   ]
  },
  {
   "cell_type": "code",
   "execution_count": 3,
   "id": "1fdb1a4f-a076-4117-9508-31c363fd2f8c",
   "metadata": {},
   "outputs": [],
   "source": [
    "import json\n",
    "import libcasm.composition as casmcomp\n",
    "import libcasm.configuration as casmconfig\n",
    "import libcasm.mapping.info as mapinfo\n",
    "import libcasm.mapping.methods as mapmethods\n",
    "import libcasm.xtal as xtal\n",
    "import numpy as np"
   ]
  },
  {
   "cell_type": "markdown",
   "id": "e11dcdfc-65be-43dc-ba2e-b1a2776917a3",
   "metadata": {},
   "source": [
    "Read prim"
   ]
  },
  {
   "cell_type": "code",
   "execution_count": 4,
   "id": "2aca0423-3c85-44f2-b02b-e00b3c1988e5",
   "metadata": {},
   "outputs": [],
   "source": [
    "with open('prim.json', 'r') as f:\n",
    "    prim = xtal.Prim.from_dict(json.load(f))\n",
    "\n",
    "config_prim = casmconfig.Prim(prim)"
   ]
  },
  {
   "cell_type": "markdown",
   "id": "2fb5952b-d614-4213-b2f5-4644d5027751",
   "metadata": {},
   "source": [
    "# Read DFT data"
   ]
  },
  {
   "cell_type": "markdown",
   "id": "4e7bc1bf-a03e-44a0-927b-cfef1e66908c",
   "metadata": {},
   "source": [
    "The `training_data` folder contains the results of DFT calculations. Each directory labeled `SCELX_X_X_X_X_X_X/Y` corresponds to a configuration. The unrelaxed structure can be found in the file `POS` and the DFT data, including the relaxed structure, can be found in the file `calctype.default/properties.calc.json`."
   ]
  },
  {
   "cell_type": "code",
   "execution_count": 5,
   "id": "9d689ed7-bf0f-4f72-9e5a-d4b572254a78",
   "metadata": {},
   "outputs": [],
   "source": [
    "from pathlib import Path"
   ]
  },
  {
   "cell_type": "code",
   "execution_count": 6,
   "id": "be465c89-67f5-4e42-8acd-db7cb2ef8e7c",
   "metadata": {},
   "outputs": [],
   "source": [
    "training_data = Path('training_data')\n",
    "training_data = [i for i in training_data.rglob('SCEL*/[0-9]*/')]"
   ]
  },
  {
   "cell_type": "markdown",
   "id": "00e16fb9-0150-4580-ad3c-15bed93186c8",
   "metadata": {},
   "source": [
    "We will now read the training data into configurations with properties. For each folder in `training_data`, we will find a match with a configuration in `config_set` by reading the unrelaxed structure from `POS`. Then, we will use `properties.calc.json` to get the DFT energy and calculate the deformation from structural relaxation. Note that the training data does not contain calculations for every enumerated configuration in the `config_list`. Also, the name of each configuration (e.g. `SCEL1_1_1_1_0_0_0/1`) is not a unique identifier -- the \"fingerprint\" of a configuration is its occupation string. For simplicity, we ignore configurations which are not primitive. Results are written to a file called `config_props.json`."
   ]
  },
  {
   "cell_type": "markdown",
   "id": "c8d6db3c-a18e-4f38-ac26-80df54ea8dd7",
   "metadata": {},
   "source": [
    "This routine maps two structures assuming that the second (child) structure was produced directly from the first (parent) structure, for example via relaxation with VASP."
   ]
  },
  {
   "cell_type": "code",
   "execution_count": 7,
   "id": "365cfcca-c709-4e6a-ab5b-a324e17ff69d",
   "metadata": {},
   "outputs": [],
   "source": [
    "def map_relaxed_structure(ideal_prim, relaxed_structure_with_properties, ideal_transformation_matrix):\n",
    "    \"\"\"Given the ideal prim and relaxed structure, map and report mapping cost.\n",
    "\n",
    "    Parameters\n",
    "    ----------\n",
    "    ideal_prim: xtal.Prim\n",
    "    relaxed_structure_with_properties: xtal.Structure\n",
    "    ideal_transformation_matrix: np.array((3,3), dtype=int)\n",
    "        transformation matrix from the ideal prim to the ideal (unrelaxed) structure\n",
    "\n",
    "    Returns\n",
    "    -------\n",
    "    structure_mapping: mapinfo.StructureMapping\n",
    "    \"\"\"\n",
    "    # map lattices, assuming that the relaxed structure is relaxed directly from the ideal structure in VASP\n",
    "    # the ideal structure S is related to the ideal prim P via the ideal transformation matrix T:\n",
    "    # PT = S\n",
    "    lattice_mapping = mapmethods.map_lattices_without_reorientation(\n",
    "        lattice1=ideal_prim.lattice(),\n",
    "        lattice2=relaxed_structure_with_properties.lattice(),\n",
    "        transformation_matrix_to_super=ideal_transformation_matrix\n",
    "    )\n",
    "\n",
    "    # now map the atoms using the lattice mapping which was found -- there should only be one atom mapping\n",
    "    atom_mapping = mapmethods.map_atoms(\n",
    "        ideal_prim, relaxed_structure_with_properties,\n",
    "        lattice_mapping=lattice_mapping,\n",
    "        prim_factor_group=xtal.make_factor_group(ideal_prim)\n",
    "    )\n",
    "    assert len(atom_mapping) == 1\n",
    "    atom_mapping = atom_mapping[0]\n",
    "\n",
    "    structure_mapping = mapinfo.StructureMapping(\n",
    "        ideal_prim, lattice_mapping, atom_mapping\n",
    "    )\n",
    "\n",
    "    # temporarily forward a scored structure mapping so that atom_cost is accessible: does not work\n",
    "    scored_structure_mapping = mapinfo.ScoredStructureMapping(\n",
    "        structure_mapping=structure_mapping,\n",
    "        lattice_cost=-1, atom_cost=atom_mapping.atom_cost(), total_cost=-1\n",
    "    )    \n",
    "    return scored_structure_mapping"
   ]
  },
  {
   "cell_type": "markdown",
   "id": "8b841313-d697-4358-88f7-e5f478bc0a8e",
   "metadata": {},
   "source": [
    "Now we map all structures in training data, assuming that the structures are all primitive."
   ]
  },
  {
   "cell_type": "code",
   "execution_count": 8,
   "id": "c3359199-8486-4f34-82c1-3c945406671a",
   "metadata": {},
   "outputs": [],
   "source": [
    "config_props = []\n",
    "\n",
    "for directory in training_data:\n",
    "    # get the ideal structure and the relaxed structure\n",
    "    ideal_poscar = directory/'POS'\n",
    "    relaxed_structure_with_properties_json = directory/'calctype.default/properties.calc.json'\n",
    "    if not ideal_poscar.exists() or not relaxed_structure_with_properties_json.exists(): continue\n",
    "    \n",
    "    ideal_structure = xtal.Structure.from_poscar(ideal_poscar.as_posix())\n",
    "    ideal_configuration = casmconfig.Configuration.from_structure(config_prim, ideal_structure)\n",
    "    with open(relaxed_structure_with_properties_json, 'r') as f:\n",
    "        props = json.load(f)\n",
    "        relaxed_structure_with_properties = xtal.Structure.from_dict(props)\n",
    "\n",
    "    # perform mapping and generate configuration with properties\n",
    "    ideal_transformation_matrix = ideal_configuration.supercell.transformation_matrix_to_super\n",
    "    structure_mapping = map_relaxed_structure(\n",
    "        ideal_prim=prim,\n",
    "        relaxed_structure_with_properties=relaxed_structure_with_properties,\n",
    "        ideal_transformation_matrix=ideal_transformation_matrix\n",
    "    )\n",
    "\n",
    "    mapped_structure = mapmethods.make_mapped_structure(\n",
    "        structure_mapping, relaxed_structure_with_properties\n",
    "    )\n",
    "\n",
    "    configuration_with_properties = casmconfig.ConfigurationWithProperties.from_structure(\n",
    "        config_prim, mapped_structure\n",
    "    )\n",
    "\n",
    "    config_props.append({\n",
    "        'configuration_with_properties': configuration_with_properties,\n",
    "        'structure_mapping': structure_mapping,\n",
    "        'path': directory,\n",
    "    })"
   ]
  },
  {
   "cell_type": "markdown",
   "id": "d66fa148-f933-4201-b82d-42db75fec48a",
   "metadata": {},
   "source": [
    "We can calculate compositions and formation energies. The calculator will return the fraction of each species in the configuration. We will order the species as [Si, Ge] so that querying the second index gives $x$ in Si$_{1-x}$Ge$_x$."
   ]
  },
  {
   "cell_type": "code",
   "execution_count": 9,
   "id": "a5661d06-a8b7-4e25-9ef8-93c2249cc9c5",
   "metadata": {},
   "outputs": [
    {
     "name": "stdout",
     "output_type": "stream",
     "text": [
      "{'dof': {'occ': [1, 1, 1, 0, 1, 0, 0, 1]}, 'supercell_name': 'SCEL4_4_1_1_0_0_2', 'transformation_matrix_to_supercell': [[0, 2, 0], [0, -1, 2], [1, -1, -1]]}\n",
      "--------------------------\n",
      "<title>\n",
      "1.00000000\n",
      "2.80000000 2.80000000 0.00000000\n",
      "-5.60000000  2.80000000  2.80000000\n",
      " 2.80000000 -2.80000000  5.60000000\n",
      "Ge Si \n",
      "5 3 \n",
      "Direct\n",
      "0.00000000 0.00000000 0.00000000 Ge\n",
      "0.75000000 0.50000000 0.25000000 Ge\n",
      "0.50000000 0.00000000 0.50000000 Ge\n",
      "0.56250000 0.12500000 0.18750000 Ge\n",
      "0.81250000 0.62500000 0.93750000 Ge\n",
      "0.25000000 0.50000000 0.75000000 Si\n",
      "1.31250000 0.62500000 0.43750000 Si\n",
      "1.06250000 0.12500000 0.68750000 Si\n",
      "\n",
      "\n",
      "--------------------------\n",
      "atom fraction Ge = 0.625\n"
     ]
    }
   ],
   "source": [
    "components = ['Si', 'Ge'] # the order to report the composition in\n",
    "allowed_occs = [['Si', 'Ge']] # the allowed species on each site of the prim\n",
    "composition_calculator = casmcomp.CompositionCalculator(\n",
    "    components=components,\n",
    "    allowed_occs=allowed_occs\n",
    ")\n",
    "\n",
    "calculated_config = config_props[0]['configuration_with_properties'].configuration\n",
    "occupation = calculated_config.occupation\n",
    "species_frac = composition_calculator.species_frac(occupation)\n",
    "x = species_frac[1]\n",
    "\n",
    "print(calculated_config.to_dict())\n",
    "print('--------------------------')\n",
    "print(calculated_config.to_structure().to_poscar_str())\n",
    "print('--------------------------')\n",
    "print(f'atom fraction Ge = {x}')"
   ]
  },
  {
   "cell_type": "code",
   "execution_count": 10,
   "id": "c529542c-8ebb-4163-85eb-75cc3942713e",
   "metadata": {},
   "outputs": [],
   "source": [
    "for index, value in enumerate(config_props):\n",
    "    calculated_config = value['configuration_with_properties'].configuration\n",
    "    occupation = calculated_config.occupation\n",
    "    species_frac = composition_calculator.species_frac(occupation)\n",
    "    x = species_frac[1]\n",
    "    config_props[index]['atom_fraction_Ge'] = x"
   ]
  },
  {
   "cell_type": "markdown",
   "id": "fcd21943-c6c9-4276-b786-4d839881979c",
   "metadata": {},
   "source": [
    "The formation energy $\\Delta E$ is given by $\\Delta E_f = E - n_\\mathrm{Ge}E_\\mathrm{Ge} - n_\\mathrm{Si}E_\\mathrm{Si}$ where $E$ is the DFT energy, $n_\\mathrm{Ge}$ and $n_\\mathrm{Si}$ are the number of atoms of Ge and Si, and $E_\\mathrm{Ge}$ and $E_\\mathrm{Si}$ are the reference DFT energies (per atom) of the Ge and Si endstates. We report the formation energy $\\Delta e_f$ normalized per primitive cell given by $\\Delta e_f = e - xE_\\mathrm{Ge} - (1-x)E_\\mathrm{Si}$ where $e$ is the DFT energy per primitive cell and $x$ is the atom fraction of Ge."
   ]
  },
  {
   "cell_type": "code",
   "execution_count": 11,
   "id": "a841391c-5c00-4377-aa90-a799b1467917",
   "metadata": {},
   "outputs": [],
   "source": [
    "def calculate_formation_energy(energy_per_prim, x, ref_Si, ref_Ge):\n",
    "    return energy_per_prim - (1 - x)*(ref_Si) - x*(ref_Ge)"
   ]
  },
  {
   "cell_type": "markdown",
   "id": "666144bd-fa67-4359-88b2-8d210f3a8d0e",
   "metadata": {},
   "source": [
    "We will set the reference energies to the energies of pure Si and Ge structures in the primitive cell, SCEL1_1_1_1_0_0_0/0."
   ]
  },
  {
   "cell_type": "code",
   "execution_count": 12,
   "id": "c9998b5e-a012-4be2-b155-7f3cc15ec5db",
   "metadata": {},
   "outputs": [
    {
     "name": "stdout",
     "output_type": "stream",
     "text": [
      "atom fraction Ge in Si reference state: 0.0\n",
      "atom fraction Ge in Ge reference state: 1.0\n",
      "DFT reference energy in Si reference state: -10.84965 eV / prim\n",
      "DFT reference energy in Ge reference state: -9.03553 eV / prim\n"
     ]
    }
   ],
   "source": [
    "# set the paths to the reference calculations\n",
    "ref_Si_config = 'SCEL1_1_1_1_0_0_0/0'\n",
    "ref_Ge_config = 'SCEL1_1_1_1_0_0_0/2'\n",
    "\n",
    "# find the reference data in the config_props dictionary\n",
    "paths = ['/'.join(i['path'].parts[-2:]) for i in config_props]\n",
    "ref_Si_data = config_props[paths.index(ref_Si_config)]\n",
    "ref_Ge_data = config_props[paths.index(ref_Ge_config)]\n",
    "ref_Si_energy = ref_Si_data['configuration_with_properties'].scalar_global_property_value('energy')\n",
    "ref_Ge_energy = ref_Ge_data['configuration_with_properties'].scalar_global_property_value('energy')\n",
    "\n",
    "print(f'atom fraction Ge in Si reference state: {ref_Si_data[\"atom_fraction_Ge\"]}')\n",
    "print(f'atom fraction Ge in Ge reference state: {ref_Ge_data[\"atom_fraction_Ge\"]}')\n",
    "print(f'DFT reference energy in Si reference state: {round(ref_Si_energy, 5)} eV / prim')\n",
    "print(f'DFT reference energy in Ge reference state: {round(ref_Ge_energy, 5)} eV / prim')"
   ]
  },
  {
   "cell_type": "markdown",
   "id": "d462fe7a-9a0d-4f7e-8b8c-562206ab13e8",
   "metadata": {},
   "source": [
    "Now we can calculate formation energies. The energies must be normalized per primitive cell. We do this by dividing by the number of primitive cells in the supercell."
   ]
  },
  {
   "cell_type": "code",
   "execution_count": 13,
   "id": "2717eb49-d2f2-4013-b9de-58bcaf6a7094",
   "metadata": {},
   "outputs": [
    {
     "name": "stdout",
     "output_type": "stream",
     "text": [
      "DFT Energy: -38.74168\n",
      "normalized by 4 supercells: -9.68542\n",
      "formation energy: 0.0304 eV / primitive cell\n"
     ]
    }
   ],
   "source": [
    "calculated_config = config_props[0]['configuration_with_properties'].configuration\n",
    "dft_energy = config_props[0]['configuration_with_properties'].scalar_global_property_value('energy')\n",
    "atom_fraction_Ge = config_props[0]['atom_fraction_Ge']\n",
    "supercell_size = calculated_config.supercell.n_unitcells\n",
    "normalized_dft_energy = dft_energy / supercell_size\n",
    "formation_energy = calculate_formation_energy(\n",
    "    energy_per_prim=normalized_dft_energy,\n",
    "    x=atom_fraction_Ge,\n",
    "    ref_Si=ref_Si_energy,\n",
    "    ref_Ge=ref_Ge_energy\n",
    ")\n",
    "\n",
    "print(f'DFT Energy: {round(dft_energy, 5)}')\n",
    "print(f'normalized by {supercell_size} supercells: {round(normalized_dft_energy, 5)}')\n",
    "print(f'formation energy: {round(formation_energy, 5)} eV / primitive cell')"
   ]
  },
  {
   "cell_type": "code",
   "execution_count": 14,
   "id": "d4403598-ff76-4e11-91cc-a3f5e835b227",
   "metadata": {},
   "outputs": [],
   "source": [
    "for index, value in enumerate(config_props):\n",
    "    calculated_config = value['configuration_with_properties'].configuration\n",
    "    dft_energy = value['configuration_with_properties'].scalar_global_property_value('energy')\n",
    "    atom_fraction_Ge = value['atom_fraction_Ge']\n",
    "    supercell_size = calculated_config.supercell.n_unitcells\n",
    "    normalized_dft_energy = dft_energy / supercell_size\n",
    "    formation_energy = calculate_formation_energy(\n",
    "        energy_per_prim=normalized_dft_energy,\n",
    "        x=atom_fraction_Ge,\n",
    "        ref_Si=ref_Si_energy,\n",
    "        ref_Ge=ref_Ge_energy\n",
    "    )\n",
    "    config_props[index]['formation_energy'] = formation_energy"
   ]
  },
  {
   "cell_type": "markdown",
   "id": "b81eb1ec-9704-4e74-a586-703e698eb981",
   "metadata": {},
   "source": [
    "We can get information about the child's lattice deformation from the structure mapping, specifically the lattice deformation gradient. A simple volume change has a cost of 0."
   ]
  },
  {
   "cell_type": "code",
   "execution_count": 15,
   "id": "1d27f70a-aea3-43b0-a39b-21fdf9eff824",
   "metadata": {},
   "outputs": [
    {
     "name": "stdout",
     "output_type": "stream",
     "text": [
      "isotropic cost: 0.0\n",
      "symmetry-breaking cost: 0.0\n"
     ]
    }
   ],
   "source": [
    "calculated_config = config_props[0]['configuration_with_properties'].configuration\n",
    "structure_mapping = config_props[0]['structure_mapping']\n",
    "isotropic_cost = mapinfo.lattice_isotropic_strain_cost(structure_mapping.lattice_mapping().deformation_gradient())\n",
    "symmetry_breaking_cost = mapinfo.lattice_symmetry_breaking_strain_cost(\n",
    "    structure_mapping.lattice_mapping().deformation_gradient(),\n",
    "    xtal.make_point_group(calculated_config.supercell.superlattice)\n",
    ")\n",
    "\n",
    "print(f'isotropic cost: {round(isotropic_cost, 5)}')\n",
    "print(f'symmetry-breaking cost: {round(symmetry_breaking_cost, 5)}')"
   ]
  },
  {
   "cell_type": "code",
   "execution_count": 16,
   "id": "f7f9134e-104f-463b-9e57-ca4e9a707a7b",
   "metadata": {},
   "outputs": [],
   "source": [
    "for index, value in enumerate(config_props):\n",
    "    calculated_config = value['configuration_with_properties'].configuration\n",
    "    structure_mapping = value['structure_mapping']\n",
    "    isotropic_cost = mapinfo.lattice_isotropic_strain_cost(structure_mapping.lattice_mapping().deformation_gradient())\n",
    "    symmetry_breaking_cost = mapinfo.lattice_symmetry_breaking_strain_cost(\n",
    "        structure_mapping.lattice_mapping().deformation_gradient(),\n",
    "        xtal.make_point_group(calculated_config.supercell.superlattice)\n",
    "    )\n",
    "    config_props[index]['lattice_isotropic_strain_cost'] = isotropic_cost\n",
    "    config_props[index]['lattice_symmetry_breaking_strain_cost'] = symmetry_breaking_cost"
   ]
  },
  {
   "cell_type": "markdown",
   "id": "0e4e3974-b142-41a4-b690-1754af8b714b",
   "metadata": {},
   "source": [
    "We can calculate high-symmetry strain componenents from the deformation gradient as well. By default, the mapping info will contain Ustrain (the right stretch tensor) values for $E_{xx}$, $E_{yy}$, etc. Let's get $e_1$ through $e_6$ for Hencky strain."
   ]
  },
  {
   "cell_type": "code",
   "execution_count": 17,
   "id": "7ee4e5ec-887c-4a85-a06e-910baf793890",
   "metadata": {},
   "outputs": [
    {
     "name": "stdout",
     "output_type": "stream",
     "text": [
      "e_1: 0.00959\n",
      "e_2: -0.0\n",
      "e_3: 0.00016\n",
      "e_4: -9e-05\n",
      "e_5: 9e-05\n",
      "e_6: 0.00061\n"
     ]
    }
   ],
   "source": [
    "# choose a symmetry-adapted strain basis\n",
    "basis = xtal.make_symmetry_adapted_strain_basis()\n",
    "# choose Hencky strain\n",
    "hencky_strain_converter = xtal.StrainConverter(\n",
    "    metric='Hstrain',\n",
    "    basis=basis\n",
    ")\n",
    "\n",
    "# get the Hencky strain in the symmetry-adapted strain basis\n",
    "structure_mapping = config_props[0]['structure_mapping']\n",
    "deformation_gradient = structure_mapping.lattice_mapping().deformation_gradient()\n",
    "symmetry_adapted_strain = hencky_strain_converter.from_F(deformation_gradient)\n",
    "for i in range(0, 6):\n",
    "    print(f'e_{i+1}: {round(symmetry_adapted_strain[i], 5)}')"
   ]
  },
  {
   "cell_type": "code",
   "execution_count": 18,
   "id": "20269911-5c16-48fb-b6de-b20535f41e23",
   "metadata": {},
   "outputs": [],
   "source": [
    "for index, value in enumerate(config_props):\n",
    "    structure_mapping = value['structure_mapping']\n",
    "    deformation_gradient = structure_mapping.lattice_mapping().deformation_gradient()\n",
    "    symmetry_adapted_strain = hencky_strain_converter.from_F(deformation_gradient)\n",
    "    config_props[index]['symmetry_adapted_hencky_strain'] = symmetry_adapted_strain"
   ]
  },
  {
   "cell_type": "markdown",
   "id": "a8a979a1-ac4a-42db-9735-088cb039345f",
   "metadata": {},
   "source": [
    "Finally, we write the data to a JSON file for further processing. Many objects must be converted to dictionaries for this to work."
   ]
  },
  {
   "cell_type": "code",
   "execution_count": 19,
   "id": "583dcbe7-e6c4-4560-96b3-6e14ae79bdd6",
   "metadata": {},
   "outputs": [
    {
     "name": "stdout",
     "output_type": "stream",
     "text": [
      "configuration_with_properties <class 'libcasm.configuration._configuration.ConfigurationWithProperties'>\n",
      "structure_mapping <class 'libcasm.mapping.info._mapping_info.ScoredStructureMapping'>\n",
      "path <class 'pathlib.PosixPath'>\n",
      "atom_fraction_Ge <class 'numpy.float64'>\n",
      "formation_energy <class 'numpy.float64'>\n",
      "lattice_isotropic_strain_cost <class 'float'>\n",
      "lattice_symmetry_breaking_strain_cost <class 'float'>\n",
      "symmetry_adapted_hencky_strain <class 'numpy.ndarray'>\n"
     ]
    }
   ],
   "source": [
    "for k, v in config_props[0].items():\n",
    "    print(k, type(v))"
   ]
  },
  {
   "cell_type": "code",
   "execution_count": 20,
   "id": "5ffff544-8fe1-4a95-a888-e31bf6c391bd",
   "metadata": {},
   "outputs": [],
   "source": [
    "config_props_out = []\n",
    "for value in config_props:\n",
    "    config_props_out.append({\n",
    "        'configuration_with_properties': value['configuration_with_properties'].to_dict(),\n",
    "        'structure_mapping': value['structure_mapping'].to_dict(),\n",
    "        'path': value['path'].as_posix(),\n",
    "        'atom_fraction_Ge': value['atom_fraction_Ge'],\n",
    "        'formation_energy': value['formation_energy'],\n",
    "        'lattice_isotropic_strain_cost': value['lattice_isotropic_strain_cost'],\n",
    "        'lattice_symmetry_breaking_strain_cost': value['lattice_symmetry_breaking_strain_cost'],\n",
    "        'symmetry_adapted_hencky_strain': value['symmetry_adapted_hencky_strain'].tolist()\n",
    "    })"
   ]
  },
  {
   "cell_type": "code",
   "execution_count": 21,
   "id": "efb471be-9bed-40fd-945b-f33f5bd9aa6d",
   "metadata": {},
   "outputs": [],
   "source": [
    "with open('config_props.json', 'w') as f:\n",
    "    json.dump(config_props_out, f)"
   ]
  },
  {
   "cell_type": "markdown",
   "id": "868d6be2-bba4-4cc4-91ac-4c16b63f90bd",
   "metadata": {},
   "source": [
    "# Plotting"
   ]
  },
  {
   "cell_type": "code",
   "execution_count": 22,
   "id": "29ca703d-c97d-4981-802c-dce3cbbb4b2d",
   "metadata": {},
   "outputs": [
    {
     "data": {
      "text/html": [
       "    <style>\n",
       "        .bk-notebook-logo {\n",
       "            display: block;\n",
       "            width: 20px;\n",
       "            height: 20px;\n",
       "            background-image: url(data:image/png;base64,iVBORw0KGgoAAAANSUhEUgAAABQAAAAUCAYAAACNiR0NAAAABHNCSVQICAgIfAhkiAAAAAlwSFlzAAALEgAACxIB0t1+/AAAABx0RVh0U29mdHdhcmUAQWRvYmUgRmlyZXdvcmtzIENTNui8sowAAAOkSURBVDiNjZRtaJVlGMd/1/08zzln5zjP1LWcU9N0NkN8m2CYjpgQYQXqSs0I84OLIC0hkEKoPtiH3gmKoiJDU7QpLgoLjLIQCpEsNJ1vqUOdO7ppbuec5+V+rj4ctwzd8IIbbi6u+8f1539dt3A78eXC7QizUF7gyV1fD1Yqg4JWz84yffhm0qkFqBogB9rM8tZdtwVsPUhWhGcFJngGeWrPzHm5oaMmkfEg1usvLFyc8jLRqDOMru7AyC8saQr7GG7f5fvDeH7Ej8CM66nIF+8yngt6HWaKh7k49Soy9nXurCi1o3qUbS3zWfrYeQDTB/Qj6kX6Ybhw4B+bOYoLKCC9H3Nu/leUTZ1JdRWkkn2ldcCamzrcf47KKXdAJllSlxAOkRgyHsGC/zRday5Qld9DyoM4/q/rUoy/CXh3jzOu3bHUVZeU+DEn8FInkPBFlu3+nW3Nw0mk6vCDiWg8CeJaxEwuHS3+z5RgY+YBR6V1Z1nxSOfoaPa4LASWxxdNp+VWTk7+4vzaou8v8PN+xo+KY2xsw6une2frhw05CTYOmQvsEhjhWjn0bmXPjpE1+kplmmkP3suftwTubK9Vq22qKmrBhpY4jvd5afdRA3wGjFAgcnTK2s4hY0/GPNIb0nErGMCRxWOOX64Z8RAC4oCXdklmEvcL8o0BfkNK4lUg9HTl+oPlQxdNo3Mg4Nv175e/1LDGzZen30MEjRUtmXSfiTVu1kK8W4txyV6BMKlbgk3lMwYCiusNy9fVfvvwMxv8Ynl6vxoByANLTWplvuj/nF9m2+PDtt1eiHPBr1oIfhCChQMBw6Aw0UulqTKZdfVvfG7VcfIqLG9bcldL/+pdWTLxLUy8Qq38heUIjh4XlzZxzQm19lLFlr8vdQ97rjZVOLf8nclzckbcD4wxXMidpX30sFd37Fv/GtwwhzhxGVAprjbg0gCAEeIgwCZyTV2Z1REEW8O4py0wsjeloKoMr6iCY6dP92H6Vw/oTyICIthibxjm/DfN9lVz8IqtqKYLUXfoKVMVQVVJOElGjrnnUt9T9wbgp8AyYKaGlqingHZU/uG2NTZSVqwHQTWkx9hxjkpWDaCg6Ckj5qebgBVbT3V3NNXMSiWSDdGV3hrtzla7J+duwPOToIg42ChPQOQjspnSlp1V+Gjdged7+8UN5CRAV7a5EdFNwCjEaBR27b3W890TE7g24NAP/mMDXRWrGoFPQI9ls/MWO2dWFAar/xcOIImbbpA3zgAAAABJRU5ErkJggg==);\n",
       "        }\n",
       "    </style>\n",
       "    <div>\n",
       "        <a href=\"https://bokeh.org\" target=\"_blank\" class=\"bk-notebook-logo\"></a>\n",
       "        <span id=\"bce3afe6-7ed4-480c-9f62-9bdcab1f9573\">Loading BokehJS ...</span>\n",
       "    </div>\n"
      ]
     },
     "metadata": {},
     "output_type": "display_data"
    },
    {
     "data": {
      "application/javascript": [
       "'use strict';\n",
       "(function(root) {\n",
       "  function now() {\n",
       "    return new Date();\n",
       "  }\n",
       "\n",
       "  const force = true;\n",
       "\n",
       "  if (typeof root._bokeh_onload_callbacks === \"undefined\" || force === true) {\n",
       "    root._bokeh_onload_callbacks = [];\n",
       "    root._bokeh_is_loading = undefined;\n",
       "  }\n",
       "\n",
       "const JS_MIME_TYPE = 'application/javascript';\n",
       "  const HTML_MIME_TYPE = 'text/html';\n",
       "  const EXEC_MIME_TYPE = 'application/vnd.bokehjs_exec.v0+json';\n",
       "  const CLASS_NAME = 'output_bokeh rendered_html';\n",
       "\n",
       "  /**\n",
       "   * Render data to the DOM node\n",
       "   */\n",
       "  function render(props, node) {\n",
       "    const script = document.createElement(\"script\");\n",
       "    node.appendChild(script);\n",
       "  }\n",
       "\n",
       "  /**\n",
       "   * Handle when an output is cleared or removed\n",
       "   */\n",
       "  function handleClearOutput(event, handle) {\n",
       "    function drop(id) {\n",
       "      const view = Bokeh.index.get_by_id(id)\n",
       "      if (view != null) {\n",
       "        view.model.document.clear()\n",
       "        Bokeh.index.delete(view)\n",
       "      }\n",
       "    }\n",
       "\n",
       "    const cell = handle.cell;\n",
       "\n",
       "    const id = cell.output_area._bokeh_element_id;\n",
       "    const server_id = cell.output_area._bokeh_server_id;\n",
       "\n",
       "    // Clean up Bokeh references\n",
       "    if (id != null) {\n",
       "      drop(id)\n",
       "    }\n",
       "\n",
       "    if (server_id !== undefined) {\n",
       "      // Clean up Bokeh references\n",
       "      const cmd_clean = \"from bokeh.io.state import curstate; print(curstate().uuid_to_server['\" + server_id + \"'].get_sessions()[0].document.roots[0]._id)\";\n",
       "      cell.notebook.kernel.execute(cmd_clean, {\n",
       "        iopub: {\n",
       "          output: function(msg) {\n",
       "            const id = msg.content.text.trim()\n",
       "            drop(id)\n",
       "          }\n",
       "        }\n",
       "      });\n",
       "      // Destroy server and session\n",
       "      const cmd_destroy = \"import bokeh.io.notebook as ion; ion.destroy_server('\" + server_id + \"')\";\n",
       "      cell.notebook.kernel.execute(cmd_destroy);\n",
       "    }\n",
       "  }\n",
       "\n",
       "  /**\n",
       "   * Handle when a new output is added\n",
       "   */\n",
       "  function handleAddOutput(event, handle) {\n",
       "    const output_area = handle.output_area;\n",
       "    const output = handle.output;\n",
       "\n",
       "    // limit handleAddOutput to display_data with EXEC_MIME_TYPE content only\n",
       "    if ((output.output_type != \"display_data\") || (!Object.prototype.hasOwnProperty.call(output.data, EXEC_MIME_TYPE))) {\n",
       "      return\n",
       "    }\n",
       "\n",
       "    const toinsert = output_area.element.find(\".\" + CLASS_NAME.split(' ')[0]);\n",
       "\n",
       "    if (output.metadata[EXEC_MIME_TYPE][\"id\"] !== undefined) {\n",
       "      toinsert[toinsert.length - 1].firstChild.textContent = output.data[JS_MIME_TYPE];\n",
       "      // store reference to embed id on output_area\n",
       "      output_area._bokeh_element_id = output.metadata[EXEC_MIME_TYPE][\"id\"];\n",
       "    }\n",
       "    if (output.metadata[EXEC_MIME_TYPE][\"server_id\"] !== undefined) {\n",
       "      const bk_div = document.createElement(\"div\");\n",
       "      bk_div.innerHTML = output.data[HTML_MIME_TYPE];\n",
       "      const script_attrs = bk_div.children[0].attributes;\n",
       "      for (let i = 0; i < script_attrs.length; i++) {\n",
       "        toinsert[toinsert.length - 1].firstChild.setAttribute(script_attrs[i].name, script_attrs[i].value);\n",
       "        toinsert[toinsert.length - 1].firstChild.textContent = bk_div.children[0].textContent\n",
       "      }\n",
       "      // store reference to server id on output_area\n",
       "      output_area._bokeh_server_id = output.metadata[EXEC_MIME_TYPE][\"server_id\"];\n",
       "    }\n",
       "  }\n",
       "\n",
       "  function register_renderer(events, OutputArea) {\n",
       "\n",
       "    function append_mime(data, metadata, element) {\n",
       "      // create a DOM node to render to\n",
       "      const toinsert = this.create_output_subarea(\n",
       "        metadata,\n",
       "        CLASS_NAME,\n",
       "        EXEC_MIME_TYPE\n",
       "      );\n",
       "      this.keyboard_manager.register_events(toinsert);\n",
       "      // Render to node\n",
       "      const props = {data: data, metadata: metadata[EXEC_MIME_TYPE]};\n",
       "      render(props, toinsert[toinsert.length - 1]);\n",
       "      element.append(toinsert);\n",
       "      return toinsert\n",
       "    }\n",
       "\n",
       "    /* Handle when an output is cleared or removed */\n",
       "    events.on('clear_output.CodeCell', handleClearOutput);\n",
       "    events.on('delete.Cell', handleClearOutput);\n",
       "\n",
       "    /* Handle when a new output is added */\n",
       "    events.on('output_added.OutputArea', handleAddOutput);\n",
       "\n",
       "    /**\n",
       "     * Register the mime type and append_mime function with output_area\n",
       "     */\n",
       "    OutputArea.prototype.register_mime_type(EXEC_MIME_TYPE, append_mime, {\n",
       "      /* Is output safe? */\n",
       "      safe: true,\n",
       "      /* Index of renderer in `output_area.display_order` */\n",
       "      index: 0\n",
       "    });\n",
       "  }\n",
       "\n",
       "  // register the mime type if in Jupyter Notebook environment and previously unregistered\n",
       "  if (root.Jupyter !== undefined) {\n",
       "    const events = require('base/js/events');\n",
       "    const OutputArea = require('notebook/js/outputarea').OutputArea;\n",
       "\n",
       "    if (OutputArea.prototype.mime_types().indexOf(EXEC_MIME_TYPE) == -1) {\n",
       "      register_renderer(events, OutputArea);\n",
       "    }\n",
       "  }\n",
       "  if (typeof (root._bokeh_timeout) === \"undefined\" || force === true) {\n",
       "    root._bokeh_timeout = Date.now() + 5000;\n",
       "    root._bokeh_failed_load = false;\n",
       "  }\n",
       "\n",
       "  const NB_LOAD_WARNING = {'data': {'text/html':\n",
       "     \"<div style='background-color: #fdd'>\\n\"+\n",
       "     \"<p>\\n\"+\n",
       "     \"BokehJS does not appear to have successfully loaded. If loading BokehJS from CDN, this \\n\"+\n",
       "     \"may be due to a slow or bad network connection. Possible fixes:\\n\"+\n",
       "     \"</p>\\n\"+\n",
       "     \"<ul>\\n\"+\n",
       "     \"<li>re-rerun `output_notebook()` to attempt to load from CDN again, or</li>\\n\"+\n",
       "     \"<li>use INLINE resources instead, as so:</li>\\n\"+\n",
       "     \"</ul>\\n\"+\n",
       "     \"<code>\\n\"+\n",
       "     \"from bokeh.resources import INLINE\\n\"+\n",
       "     \"output_notebook(resources=INLINE)\\n\"+\n",
       "     \"</code>\\n\"+\n",
       "     \"</div>\"}};\n",
       "\n",
       "  function display_loaded(error = null) {\n",
       "    const el = document.getElementById(\"bce3afe6-7ed4-480c-9f62-9bdcab1f9573\");\n",
       "    if (el != null) {\n",
       "      const html = (() => {\n",
       "        if (typeof root.Bokeh === \"undefined\") {\n",
       "          if (error == null) {\n",
       "            return \"BokehJS is loading ...\";\n",
       "          } else {\n",
       "            return \"BokehJS failed to load.\";\n",
       "          }\n",
       "        } else {\n",
       "          const prefix = `BokehJS ${root.Bokeh.version}`;\n",
       "          if (error == null) {\n",
       "            return `${prefix} successfully loaded.`;\n",
       "          } else {\n",
       "            return `${prefix} <b>encountered errors</b> while loading and may not function as expected.`;\n",
       "          }\n",
       "        }\n",
       "      })();\n",
       "      el.innerHTML = html;\n",
       "\n",
       "      if (error != null) {\n",
       "        const wrapper = document.createElement(\"div\");\n",
       "        wrapper.style.overflow = \"auto\";\n",
       "        wrapper.style.height = \"5em\";\n",
       "        wrapper.style.resize = \"vertical\";\n",
       "        const content = document.createElement(\"div\");\n",
       "        content.style.fontFamily = \"monospace\";\n",
       "        content.style.whiteSpace = \"pre-wrap\";\n",
       "        content.style.backgroundColor = \"rgb(255, 221, 221)\";\n",
       "        content.textContent = error.stack ?? error.toString();\n",
       "        wrapper.append(content);\n",
       "        el.append(wrapper);\n",
       "      }\n",
       "    } else if (Date.now() < root._bokeh_timeout) {\n",
       "      setTimeout(() => display_loaded(error), 100);\n",
       "    }\n",
       "  }\n",
       "\n",
       "  function run_callbacks() {\n",
       "    try {\n",
       "      root._bokeh_onload_callbacks.forEach(function(callback) {\n",
       "        if (callback != null)\n",
       "          callback();\n",
       "      });\n",
       "    } finally {\n",
       "      delete root._bokeh_onload_callbacks\n",
       "    }\n",
       "    console.debug(\"Bokeh: all callbacks have finished\");\n",
       "  }\n",
       "\n",
       "  function load_libs(css_urls, js_urls, callback) {\n",
       "    if (css_urls == null) css_urls = [];\n",
       "    if (js_urls == null) js_urls = [];\n",
       "\n",
       "    root._bokeh_onload_callbacks.push(callback);\n",
       "    if (root._bokeh_is_loading > 0) {\n",
       "      console.debug(\"Bokeh: BokehJS is being loaded, scheduling callback at\", now());\n",
       "      return null;\n",
       "    }\n",
       "    if (js_urls == null || js_urls.length === 0) {\n",
       "      run_callbacks();\n",
       "      return null;\n",
       "    }\n",
       "    console.debug(\"Bokeh: BokehJS not loaded, scheduling load and callback at\", now());\n",
       "    root._bokeh_is_loading = css_urls.length + js_urls.length;\n",
       "\n",
       "    function on_load() {\n",
       "      root._bokeh_is_loading--;\n",
       "      if (root._bokeh_is_loading === 0) {\n",
       "        console.debug(\"Bokeh: all BokehJS libraries/stylesheets loaded\");\n",
       "        run_callbacks()\n",
       "      }\n",
       "    }\n",
       "\n",
       "    function on_error(url) {\n",
       "      console.error(\"failed to load \" + url);\n",
       "    }\n",
       "\n",
       "    for (let i = 0; i < css_urls.length; i++) {\n",
       "      const url = css_urls[i];\n",
       "      const element = document.createElement(\"link\");\n",
       "      element.onload = on_load;\n",
       "      element.onerror = on_error.bind(null, url);\n",
       "      element.rel = \"stylesheet\";\n",
       "      element.type = \"text/css\";\n",
       "      element.href = url;\n",
       "      console.debug(\"Bokeh: injecting link tag for BokehJS stylesheet: \", url);\n",
       "      document.body.appendChild(element);\n",
       "    }\n",
       "\n",
       "    for (let i = 0; i < js_urls.length; i++) {\n",
       "      const url = js_urls[i];\n",
       "      const element = document.createElement('script');\n",
       "      element.onload = on_load;\n",
       "      element.onerror = on_error.bind(null, url);\n",
       "      element.async = false;\n",
       "      element.src = url;\n",
       "      console.debug(\"Bokeh: injecting script tag for BokehJS library: \", url);\n",
       "      document.head.appendChild(element);\n",
       "    }\n",
       "  };\n",
       "\n",
       "  function inject_raw_css(css) {\n",
       "    const element = document.createElement(\"style\");\n",
       "    element.appendChild(document.createTextNode(css));\n",
       "    document.body.appendChild(element);\n",
       "  }\n",
       "\n",
       "  const js_urls = [\"https://cdn.bokeh.org/bokeh/release/bokeh-3.5.0.min.js\", \"https://cdn.bokeh.org/bokeh/release/bokeh-gl-3.5.0.min.js\", \"https://cdn.bokeh.org/bokeh/release/bokeh-widgets-3.5.0.min.js\", \"https://cdn.bokeh.org/bokeh/release/bokeh-tables-3.5.0.min.js\", \"https://cdn.bokeh.org/bokeh/release/bokeh-mathjax-3.5.0.min.js\"];\n",
       "  const css_urls = [];\n",
       "\n",
       "  const inline_js = [    function(Bokeh) {\n",
       "      Bokeh.set_log_level(\"info\");\n",
       "    },\n",
       "function(Bokeh) {\n",
       "    }\n",
       "  ];\n",
       "\n",
       "  function run_inline_js() {\n",
       "    if (root.Bokeh !== undefined || force === true) {\n",
       "      try {\n",
       "            for (let i = 0; i < inline_js.length; i++) {\n",
       "      inline_js[i].call(root, root.Bokeh);\n",
       "    }\n",
       "\n",
       "      } catch (error) {display_loaded(error);throw error;\n",
       "      }if (force === true) {\n",
       "        display_loaded();\n",
       "      }} else if (Date.now() < root._bokeh_timeout) {\n",
       "      setTimeout(run_inline_js, 100);\n",
       "    } else if (!root._bokeh_failed_load) {\n",
       "      console.log(\"Bokeh: BokehJS failed to load within specified timeout.\");\n",
       "      root._bokeh_failed_load = true;\n",
       "    } else if (force !== true) {\n",
       "      const cell = $(document.getElementById(\"bce3afe6-7ed4-480c-9f62-9bdcab1f9573\")).parents('.cell').data().cell;\n",
       "      cell.output_area.append_execute_result(NB_LOAD_WARNING)\n",
       "    }\n",
       "  }\n",
       "\n",
       "  if (root._bokeh_is_loading === 0) {\n",
       "    console.debug(\"Bokeh: BokehJS loaded, going straight to plotting\");\n",
       "    run_inline_js();\n",
       "  } else {\n",
       "    load_libs(css_urls, js_urls, function() {\n",
       "      console.debug(\"Bokeh: BokehJS plotting callback run at\", now());\n",
       "      run_inline_js();\n",
       "    });\n",
       "  }\n",
       "}(window));"
      ],
      "application/vnd.bokehjs_load.v0+json": "'use strict';\n(function(root) {\n  function now() {\n    return new Date();\n  }\n\n  const force = true;\n\n  if (typeof root._bokeh_onload_callbacks === \"undefined\" || force === true) {\n    root._bokeh_onload_callbacks = [];\n    root._bokeh_is_loading = undefined;\n  }\n\n\n  if (typeof (root._bokeh_timeout) === \"undefined\" || force === true) {\n    root._bokeh_timeout = Date.now() + 5000;\n    root._bokeh_failed_load = false;\n  }\n\n  const NB_LOAD_WARNING = {'data': {'text/html':\n     \"<div style='background-color: #fdd'>\\n\"+\n     \"<p>\\n\"+\n     \"BokehJS does not appear to have successfully loaded. If loading BokehJS from CDN, this \\n\"+\n     \"may be due to a slow or bad network connection. Possible fixes:\\n\"+\n     \"</p>\\n\"+\n     \"<ul>\\n\"+\n     \"<li>re-rerun `output_notebook()` to attempt to load from CDN again, or</li>\\n\"+\n     \"<li>use INLINE resources instead, as so:</li>\\n\"+\n     \"</ul>\\n\"+\n     \"<code>\\n\"+\n     \"from bokeh.resources import INLINE\\n\"+\n     \"output_notebook(resources=INLINE)\\n\"+\n     \"</code>\\n\"+\n     \"</div>\"}};\n\n  function display_loaded(error = null) {\n    const el = document.getElementById(\"bce3afe6-7ed4-480c-9f62-9bdcab1f9573\");\n    if (el != null) {\n      const html = (() => {\n        if (typeof root.Bokeh === \"undefined\") {\n          if (error == null) {\n            return \"BokehJS is loading ...\";\n          } else {\n            return \"BokehJS failed to load.\";\n          }\n        } else {\n          const prefix = `BokehJS ${root.Bokeh.version}`;\n          if (error == null) {\n            return `${prefix} successfully loaded.`;\n          } else {\n            return `${prefix} <b>encountered errors</b> while loading and may not function as expected.`;\n          }\n        }\n      })();\n      el.innerHTML = html;\n\n      if (error != null) {\n        const wrapper = document.createElement(\"div\");\n        wrapper.style.overflow = \"auto\";\n        wrapper.style.height = \"5em\";\n        wrapper.style.resize = \"vertical\";\n        const content = document.createElement(\"div\");\n        content.style.fontFamily = \"monospace\";\n        content.style.whiteSpace = \"pre-wrap\";\n        content.style.backgroundColor = \"rgb(255, 221, 221)\";\n        content.textContent = error.stack ?? error.toString();\n        wrapper.append(content);\n        el.append(wrapper);\n      }\n    } else if (Date.now() < root._bokeh_timeout) {\n      setTimeout(() => display_loaded(error), 100);\n    }\n  }\n\n  function run_callbacks() {\n    try {\n      root._bokeh_onload_callbacks.forEach(function(callback) {\n        if (callback != null)\n          callback();\n      });\n    } finally {\n      delete root._bokeh_onload_callbacks\n    }\n    console.debug(\"Bokeh: all callbacks have finished\");\n  }\n\n  function load_libs(css_urls, js_urls, callback) {\n    if (css_urls == null) css_urls = [];\n    if (js_urls == null) js_urls = [];\n\n    root._bokeh_onload_callbacks.push(callback);\n    if (root._bokeh_is_loading > 0) {\n      console.debug(\"Bokeh: BokehJS is being loaded, scheduling callback at\", now());\n      return null;\n    }\n    if (js_urls == null || js_urls.length === 0) {\n      run_callbacks();\n      return null;\n    }\n    console.debug(\"Bokeh: BokehJS not loaded, scheduling load and callback at\", now());\n    root._bokeh_is_loading = css_urls.length + js_urls.length;\n\n    function on_load() {\n      root._bokeh_is_loading--;\n      if (root._bokeh_is_loading === 0) {\n        console.debug(\"Bokeh: all BokehJS libraries/stylesheets loaded\");\n        run_callbacks()\n      }\n    }\n\n    function on_error(url) {\n      console.error(\"failed to load \" + url);\n    }\n\n    for (let i = 0; i < css_urls.length; i++) {\n      const url = css_urls[i];\n      const element = document.createElement(\"link\");\n      element.onload = on_load;\n      element.onerror = on_error.bind(null, url);\n      element.rel = \"stylesheet\";\n      element.type = \"text/css\";\n      element.href = url;\n      console.debug(\"Bokeh: injecting link tag for BokehJS stylesheet: \", url);\n      document.body.appendChild(element);\n    }\n\n    for (let i = 0; i < js_urls.length; i++) {\n      const url = js_urls[i];\n      const element = document.createElement('script');\n      element.onload = on_load;\n      element.onerror = on_error.bind(null, url);\n      element.async = false;\n      element.src = url;\n      console.debug(\"Bokeh: injecting script tag for BokehJS library: \", url);\n      document.head.appendChild(element);\n    }\n  };\n\n  function inject_raw_css(css) {\n    const element = document.createElement(\"style\");\n    element.appendChild(document.createTextNode(css));\n    document.body.appendChild(element);\n  }\n\n  const js_urls = [\"https://cdn.bokeh.org/bokeh/release/bokeh-3.5.0.min.js\", \"https://cdn.bokeh.org/bokeh/release/bokeh-gl-3.5.0.min.js\", \"https://cdn.bokeh.org/bokeh/release/bokeh-widgets-3.5.0.min.js\", \"https://cdn.bokeh.org/bokeh/release/bokeh-tables-3.5.0.min.js\", \"https://cdn.bokeh.org/bokeh/release/bokeh-mathjax-3.5.0.min.js\"];\n  const css_urls = [];\n\n  const inline_js = [    function(Bokeh) {\n      Bokeh.set_log_level(\"info\");\n    },\nfunction(Bokeh) {\n    }\n  ];\n\n  function run_inline_js() {\n    if (root.Bokeh !== undefined || force === true) {\n      try {\n            for (let i = 0; i < inline_js.length; i++) {\n      inline_js[i].call(root, root.Bokeh);\n    }\n\n      } catch (error) {display_loaded(error);throw error;\n      }if (force === true) {\n        display_loaded();\n      }} else if (Date.now() < root._bokeh_timeout) {\n      setTimeout(run_inline_js, 100);\n    } else if (!root._bokeh_failed_load) {\n      console.log(\"Bokeh: BokehJS failed to load within specified timeout.\");\n      root._bokeh_failed_load = true;\n    } else if (force !== true) {\n      const cell = $(document.getElementById(\"bce3afe6-7ed4-480c-9f62-9bdcab1f9573\")).parents('.cell').data().cell;\n      cell.output_area.append_execute_result(NB_LOAD_WARNING)\n    }\n  }\n\n  if (root._bokeh_is_loading === 0) {\n    console.debug(\"Bokeh: BokehJS loaded, going straight to plotting\");\n    run_inline_js();\n  } else {\n    load_libs(css_urls, js_urls, function() {\n      console.debug(\"Bokeh: BokehJS plotting callback run at\", now());\n      run_inline_js();\n    });\n  }\n}(window));"
     },
     "metadata": {},
     "output_type": "display_data"
    }
   ],
   "source": [
    "import bokeh.plotting as plt\n",
    "from bokeh.io import output_notebook\n",
    "output_notebook()"
   ]
  },
  {
   "cell_type": "markdown",
   "id": "b5ef0c31-bbee-4f3d-b3a4-9b8bf395fb46",
   "metadata": {},
   "source": [
    "We can plot the formation energies of the system with respect to the atomic fraction of Ge in order to see that we have a miscibility gap at 0 K."
   ]
  },
  {
   "cell_type": "code",
   "execution_count": 23,
   "id": "41979bc5-f307-4c5e-ad23-ef4c2f5c64b8",
   "metadata": {},
   "outputs": [
    {
     "data": {
      "text/html": [
       "\n",
       "  <div id=\"d9edfcc0-f56f-4827-b7f2-521a517ad2c6\" data-root-id=\"p1001\" style=\"display: contents;\"></div>\n"
      ]
     },
     "metadata": {},
     "output_type": "display_data"
    },
    {
     "data": {
      "application/javascript": [
       "(function(root) {\n",
       "  function embed_document(root) {\n",
       "  const docs_json = {\"56d5d937-d8d6-48a9-bfc5-52e9b8a6f16b\":{\"version\":\"3.5.0\",\"title\":\"Bokeh Application\",\"roots\":[{\"type\":\"object\",\"name\":\"Figure\",\"id\":\"p1001\",\"attributes\":{\"x_range\":{\"type\":\"object\",\"name\":\"DataRange1d\",\"id\":\"p1002\"},\"y_range\":{\"type\":\"object\",\"name\":\"DataRange1d\",\"id\":\"p1003\"},\"x_scale\":{\"type\":\"object\",\"name\":\"LinearScale\",\"id\":\"p1011\"},\"y_scale\":{\"type\":\"object\",\"name\":\"LinearScale\",\"id\":\"p1012\"},\"title\":{\"type\":\"object\",\"name\":\"Title\",\"id\":\"p1004\",\"attributes\":{\"text\":\"formation energy\"}},\"renderers\":[{\"type\":\"object\",\"name\":\"GlyphRenderer\",\"id\":\"p1042\",\"attributes\":{\"data_source\":{\"type\":\"object\",\"name\":\"ColumnDataSource\",\"id\":\"p1036\",\"attributes\":{\"selected\":{\"type\":\"object\",\"name\":\"Selection\",\"id\":\"p1037\",\"attributes\":{\"indices\":[],\"line_indices\":[]}},\"selection_policy\":{\"type\":\"object\",\"name\":\"UnionRenderers\",\"id\":\"p1038\"},\"data\":{\"type\":\"map\",\"entries\":[[\"x\",[0.625,0.125,0.75,0.75,0.5,0.25,0.125,0.75,0.625,0.75,0.25,0.125,0.75,0.25,0.5,0.25,0.125,0.3333333333333333,0.8333333333333334,0.6666666666666666,0.5,0.3333333333333333,0.3333333333333333,0.6666666666666666,0.6666666666666666,0.6666666666666666,0.3333333333333333,0.5,0.5,0.125,0.3333333333333333,0.8333333333333334,0.5,0.6666666666666666,0.3333333333333333,0.6666666666666666,0.16666666666666666,0.5,1.0,0.0,0.5,0.75,0.25,0.875,0.125,0.5,0.5,0.3333333333333333,0.8333333333333334,0.6666666666666666,0.6666666666666666,0.5]],[\"y\",[0.03040107999999897,0.014418559999999747,0.027601027500000264,0.02772247750000023,0.034849209999999964,0.02438445749999918,0.01566665000000045,0.029825042499999732,0.03956691249999977,0.03165950250000105,0.024608724999999332,0.014717357500000805,0.03163656500000034,0.028081719999998533,0.03510645999999884,0.020965882499999644,0.012962137499999304,0.035813766666667135,0.02454060666666713,0.037544473333332995,0.03922973666666518,0.03622878000000007,0.030342839999999427,0.03215352999999954,0.04089477333333402,0.03935045333333331,0.03785139333333376,0.04466163333333295,0.03816410666666581,0.015381877499999863,0.025878739999999567,0.020225119999999208,0.03191005333333319,0.028190529999998937,0.025529159999999607,0.027720666666666283,0.017369909999999322,0.03231295999999961,0.0,0.0,0.04906894999999967,0.024152467499999553,0.02143316499999859,0.01661363500000146,0.014029964999999311,0.027985759999999082,0.034681455000000305,0.034257183333334496,0.022886493333333036,0.031009679999999484,0.039139483333333835,0.0392514833333335]]]}}},\"view\":{\"type\":\"object\",\"name\":\"CDSView\",\"id\":\"p1043\",\"attributes\":{\"filter\":{\"type\":\"object\",\"name\":\"AllIndices\",\"id\":\"p1044\"}}},\"glyph\":{\"type\":\"object\",\"name\":\"Scatter\",\"id\":\"p1039\",\"attributes\":{\"x\":{\"type\":\"field\",\"field\":\"x\"},\"y\":{\"type\":\"field\",\"field\":\"y\"},\"line_color\":{\"type\":\"value\",\"value\":\"#1f77b4\"},\"fill_color\":{\"type\":\"value\",\"value\":\"#1f77b4\"}}},\"nonselection_glyph\":{\"type\":\"object\",\"name\":\"Scatter\",\"id\":\"p1040\",\"attributes\":{\"x\":{\"type\":\"field\",\"field\":\"x\"},\"y\":{\"type\":\"field\",\"field\":\"y\"},\"line_color\":{\"type\":\"value\",\"value\":\"#1f77b4\"},\"line_alpha\":{\"type\":\"value\",\"value\":0.1},\"fill_color\":{\"type\":\"value\",\"value\":\"#1f77b4\"},\"fill_alpha\":{\"type\":\"value\",\"value\":0.1},\"hatch_alpha\":{\"type\":\"value\",\"value\":0.1}}},\"muted_glyph\":{\"type\":\"object\",\"name\":\"Scatter\",\"id\":\"p1041\",\"attributes\":{\"x\":{\"type\":\"field\",\"field\":\"x\"},\"y\":{\"type\":\"field\",\"field\":\"y\"},\"line_color\":{\"type\":\"value\",\"value\":\"#1f77b4\"},\"line_alpha\":{\"type\":\"value\",\"value\":0.2},\"fill_color\":{\"type\":\"value\",\"value\":\"#1f77b4\"},\"fill_alpha\":{\"type\":\"value\",\"value\":0.2},\"hatch_alpha\":{\"type\":\"value\",\"value\":0.2}}}}}],\"toolbar\":{\"type\":\"object\",\"name\":\"Toolbar\",\"id\":\"p1010\",\"attributes\":{\"tools\":[{\"type\":\"object\",\"name\":\"PanTool\",\"id\":\"p1023\"},{\"type\":\"object\",\"name\":\"WheelZoomTool\",\"id\":\"p1024\",\"attributes\":{\"renderers\":\"auto\"}},{\"type\":\"object\",\"name\":\"BoxZoomTool\",\"id\":\"p1025\",\"attributes\":{\"overlay\":{\"type\":\"object\",\"name\":\"BoxAnnotation\",\"id\":\"p1026\",\"attributes\":{\"syncable\":false,\"line_color\":\"black\",\"line_alpha\":1.0,\"line_width\":2,\"line_dash\":[4,4],\"fill_color\":\"lightgrey\",\"fill_alpha\":0.5,\"level\":\"overlay\",\"visible\":false,\"left\":{\"type\":\"number\",\"value\":\"nan\"},\"right\":{\"type\":\"number\",\"value\":\"nan\"},\"top\":{\"type\":\"number\",\"value\":\"nan\"},\"bottom\":{\"type\":\"number\",\"value\":\"nan\"},\"left_units\":\"canvas\",\"right_units\":\"canvas\",\"top_units\":\"canvas\",\"bottom_units\":\"canvas\",\"handles\":{\"type\":\"object\",\"name\":\"BoxInteractionHandles\",\"id\":\"p1032\",\"attributes\":{\"all\":{\"type\":\"object\",\"name\":\"AreaVisuals\",\"id\":\"p1031\",\"attributes\":{\"fill_color\":\"white\",\"hover_fill_color\":\"lightgray\"}}}}}}}},{\"type\":\"object\",\"name\":\"SaveTool\",\"id\":\"p1033\"},{\"type\":\"object\",\"name\":\"ResetTool\",\"id\":\"p1034\"},{\"type\":\"object\",\"name\":\"HelpTool\",\"id\":\"p1035\"}]}},\"left\":[{\"type\":\"object\",\"name\":\"LinearAxis\",\"id\":\"p1018\",\"attributes\":{\"ticker\":{\"type\":\"object\",\"name\":\"BasicTicker\",\"id\":\"p1019\",\"attributes\":{\"mantissas\":[1,2,5]}},\"formatter\":{\"type\":\"object\",\"name\":\"BasicTickFormatter\",\"id\":\"p1020\"},\"axis_label\":\"formation energy (eV / primitive cell)\",\"major_label_policy\":{\"type\":\"object\",\"name\":\"AllLabels\",\"id\":\"p1021\"}}}],\"below\":[{\"type\":\"object\",\"name\":\"LinearAxis\",\"id\":\"p1013\",\"attributes\":{\"ticker\":{\"type\":\"object\",\"name\":\"BasicTicker\",\"id\":\"p1014\",\"attributes\":{\"mantissas\":[1,2,5]}},\"formatter\":{\"type\":\"object\",\"name\":\"BasicTickFormatter\",\"id\":\"p1015\"},\"axis_label\":\"x_Ge\",\"major_label_policy\":{\"type\":\"object\",\"name\":\"AllLabels\",\"id\":\"p1016\"}}}],\"center\":[{\"type\":\"object\",\"name\":\"Grid\",\"id\":\"p1017\",\"attributes\":{\"axis\":{\"id\":\"p1013\"}}},{\"type\":\"object\",\"name\":\"Grid\",\"id\":\"p1022\",\"attributes\":{\"dimension\":1,\"axis\":{\"id\":\"p1018\"}}}]}}]}};\n",
       "  const render_items = [{\"docid\":\"56d5d937-d8d6-48a9-bfc5-52e9b8a6f16b\",\"roots\":{\"p1001\":\"d9edfcc0-f56f-4827-b7f2-521a517ad2c6\"},\"root_ids\":[\"p1001\"]}];\n",
       "  void root.Bokeh.embed.embed_items_notebook(docs_json, render_items);\n",
       "  }\n",
       "  if (root.Bokeh !== undefined) {\n",
       "    embed_document(root);\n",
       "  } else {\n",
       "    let attempts = 0;\n",
       "    const timer = setInterval(function(root) {\n",
       "      if (root.Bokeh !== undefined) {\n",
       "        clearInterval(timer);\n",
       "        embed_document(root);\n",
       "      } else {\n",
       "        attempts++;\n",
       "        if (attempts > 100) {\n",
       "          clearInterval(timer);\n",
       "          console.log(\"Bokeh: ERROR: Unable to run BokehJS code because BokehJS library is missing\");\n",
       "        }\n",
       "      }\n",
       "    }, 10, root)\n",
       "  }\n",
       "})(window);"
      ],
      "application/vnd.bokehjs_exec.v0+json": ""
     },
     "metadata": {
      "application/vnd.bokehjs_exec.v0+json": {
       "id": "p1001"
      }
     },
     "output_type": "display_data"
    }
   ],
   "source": [
    "formation_energy = [i['formation_energy'] for i in config_props]\n",
    "atom_fraction_Ge = [i['atom_fraction_Ge'] for i in config_props]\n",
    "p = plt.figure(title='formation energy', x_axis_label='x_Ge', y_axis_label='formation energy (eV / primitive cell)')\n",
    "p.scatter(atom_fraction_Ge, formation_energy)\n",
    "plt.show(p)"
   ]
  },
  {
   "cell_type": "markdown",
   "id": "fedf0834-ef21-4a1f-b43d-25299344f2d2",
   "metadata": {},
   "source": [
    "The first component of the symmetry-adapted Hencky strain, $e_1$, corresponds to volume change."
   ]
  },
  {
   "cell_type": "code",
   "execution_count": 24,
   "id": "b3ac81db-ffc4-4ddf-9cb1-d254a02a47a1",
   "metadata": {},
   "outputs": [
    {
     "data": {
      "text/html": [
       "\n",
       "  <div id=\"d8f3bd14-1211-4d43-8b83-bcaddf8c97ed\" data-root-id=\"p1045\" style=\"display: contents;\"></div>\n"
      ]
     },
     "metadata": {},
     "output_type": "display_data"
    },
    {
     "data": {
      "application/javascript": [
       "(function(root) {\n",
       "  function embed_document(root) {\n",
       "  const docs_json = {\"d022a2be-ce38-4f1f-b8e3-6a5725c5a659\":{\"version\":\"3.5.0\",\"title\":\"Bokeh Application\",\"roots\":[{\"type\":\"object\",\"name\":\"Figure\",\"id\":\"p1045\",\"attributes\":{\"x_range\":{\"type\":\"object\",\"name\":\"DataRange1d\",\"id\":\"p1046\"},\"y_range\":{\"type\":\"object\",\"name\":\"DataRange1d\",\"id\":\"p1047\"},\"x_scale\":{\"type\":\"object\",\"name\":\"LinearScale\",\"id\":\"p1055\"},\"y_scale\":{\"type\":\"object\",\"name\":\"LinearScale\",\"id\":\"p1056\"},\"title\":{\"type\":\"object\",\"name\":\"Title\",\"id\":\"p1048\",\"attributes\":{\"text\":\"e_1 strain\"}},\"renderers\":[{\"type\":\"object\",\"name\":\"GlyphRenderer\",\"id\":\"p1086\",\"attributes\":{\"data_source\":{\"type\":\"object\",\"name\":\"ColumnDataSource\",\"id\":\"p1080\",\"attributes\":{\"selected\":{\"type\":\"object\",\"name\":\"Selection\",\"id\":\"p1081\",\"attributes\":{\"indices\":[],\"line_indices\":[]}},\"selection_policy\":{\"type\":\"object\",\"name\":\"UnionRenderers\",\"id\":\"p1082\"},\"data\":{\"type\":\"map\",\"entries\":[[\"x\",[0.625,0.125,0.75,0.75,0.5,0.25,0.125,0.75,0.625,0.75,0.25,0.125,0.75,0.25,0.5,0.25,0.125,0.3333333333333333,0.8333333333333334,0.6666666666666666,0.5,0.3333333333333333,0.3333333333333333,0.6666666666666666,0.6666666666666666,0.6666666666666666,0.3333333333333333,0.5,0.5,0.125,0.3333333333333333,0.8333333333333334,0.5,0.6666666666666666,0.3333333333333333,0.6666666666666666,0.16666666666666666,0.5,1.0,0.0,0.5,0.75,0.25,0.875,0.125,0.5,0.5,0.3333333333333333,0.8333333333333334,0.6666666666666666,0.6666666666666666,0.5]],[\"y\",[0.009587381738636522,-0.031694848270722754,0.021117056595820027,0.021264957741925133,-0.0016313822788956928,-0.022171837925218353,-0.031709033846246404,0.02118618852448439,0.009944624058723484,0.021269275061343598,-0.02210524208363949,-0.03182621927883613,0.020864902962379073,-0.02235226914490834,-0.0014925656618013869,-0.021868421843606337,-0.0317783422868579,-0.014450246212341776,0.029015248517996944,0.014134310441245967,-0.001789007269529574,-0.015566841856376561,-0.014987692158277896,0.014000827055444628,0.013115150893822267,0.013057717991685827,-0.015672057465320154,-0.0010251842956349815,-0.0006388171889584229,-0.031569183756271754,-0.014949623325966586,0.028705238169071088,-0.0013653830223688346,0.01353446739295283,-0.015379432109442325,0.013399618297804337,-0.028536641620629438,-0.0011624309205075316,0.04546876551906427,-0.0411291453921134,-0.00233236569596593,0.021224044986237575,-0.02155530644239821,0.03289202558256171,-0.031744611138764714,-0.0007511673265461669,-0.001710953922634222,-0.01591125993547719,0.028723932409213275,0.013708531934573462,0.013080467016285128,-0.0014732563109677063]]]}}},\"view\":{\"type\":\"object\",\"name\":\"CDSView\",\"id\":\"p1087\",\"attributes\":{\"filter\":{\"type\":\"object\",\"name\":\"AllIndices\",\"id\":\"p1088\"}}},\"glyph\":{\"type\":\"object\",\"name\":\"Scatter\",\"id\":\"p1083\",\"attributes\":{\"x\":{\"type\":\"field\",\"field\":\"x\"},\"y\":{\"type\":\"field\",\"field\":\"y\"},\"line_color\":{\"type\":\"value\",\"value\":\"#1f77b4\"},\"fill_color\":{\"type\":\"value\",\"value\":\"#1f77b4\"}}},\"nonselection_glyph\":{\"type\":\"object\",\"name\":\"Scatter\",\"id\":\"p1084\",\"attributes\":{\"x\":{\"type\":\"field\",\"field\":\"x\"},\"y\":{\"type\":\"field\",\"field\":\"y\"},\"line_color\":{\"type\":\"value\",\"value\":\"#1f77b4\"},\"line_alpha\":{\"type\":\"value\",\"value\":0.1},\"fill_color\":{\"type\":\"value\",\"value\":\"#1f77b4\"},\"fill_alpha\":{\"type\":\"value\",\"value\":0.1},\"hatch_alpha\":{\"type\":\"value\",\"value\":0.1}}},\"muted_glyph\":{\"type\":\"object\",\"name\":\"Scatter\",\"id\":\"p1085\",\"attributes\":{\"x\":{\"type\":\"field\",\"field\":\"x\"},\"y\":{\"type\":\"field\",\"field\":\"y\"},\"line_color\":{\"type\":\"value\",\"value\":\"#1f77b4\"},\"line_alpha\":{\"type\":\"value\",\"value\":0.2},\"fill_color\":{\"type\":\"value\",\"value\":\"#1f77b4\"},\"fill_alpha\":{\"type\":\"value\",\"value\":0.2},\"hatch_alpha\":{\"type\":\"value\",\"value\":0.2}}}}}],\"toolbar\":{\"type\":\"object\",\"name\":\"Toolbar\",\"id\":\"p1054\",\"attributes\":{\"tools\":[{\"type\":\"object\",\"name\":\"PanTool\",\"id\":\"p1067\"},{\"type\":\"object\",\"name\":\"WheelZoomTool\",\"id\":\"p1068\",\"attributes\":{\"renderers\":\"auto\"}},{\"type\":\"object\",\"name\":\"BoxZoomTool\",\"id\":\"p1069\",\"attributes\":{\"overlay\":{\"type\":\"object\",\"name\":\"BoxAnnotation\",\"id\":\"p1070\",\"attributes\":{\"syncable\":false,\"line_color\":\"black\",\"line_alpha\":1.0,\"line_width\":2,\"line_dash\":[4,4],\"fill_color\":\"lightgrey\",\"fill_alpha\":0.5,\"level\":\"overlay\",\"visible\":false,\"left\":{\"type\":\"number\",\"value\":\"nan\"},\"right\":{\"type\":\"number\",\"value\":\"nan\"},\"top\":{\"type\":\"number\",\"value\":\"nan\"},\"bottom\":{\"type\":\"number\",\"value\":\"nan\"},\"left_units\":\"canvas\",\"right_units\":\"canvas\",\"top_units\":\"canvas\",\"bottom_units\":\"canvas\",\"handles\":{\"type\":\"object\",\"name\":\"BoxInteractionHandles\",\"id\":\"p1076\",\"attributes\":{\"all\":{\"type\":\"object\",\"name\":\"AreaVisuals\",\"id\":\"p1075\",\"attributes\":{\"fill_color\":\"white\",\"hover_fill_color\":\"lightgray\"}}}}}}}},{\"type\":\"object\",\"name\":\"SaveTool\",\"id\":\"p1077\"},{\"type\":\"object\",\"name\":\"ResetTool\",\"id\":\"p1078\"},{\"type\":\"object\",\"name\":\"HelpTool\",\"id\":\"p1079\"}]}},\"left\":[{\"type\":\"object\",\"name\":\"LinearAxis\",\"id\":\"p1062\",\"attributes\":{\"ticker\":{\"type\":\"object\",\"name\":\"BasicTicker\",\"id\":\"p1063\",\"attributes\":{\"mantissas\":[1,2,5]}},\"formatter\":{\"type\":\"object\",\"name\":\"BasicTickFormatter\",\"id\":\"p1064\"},\"axis_label\":\"e_1\",\"major_label_policy\":{\"type\":\"object\",\"name\":\"AllLabels\",\"id\":\"p1065\"}}}],\"below\":[{\"type\":\"object\",\"name\":\"LinearAxis\",\"id\":\"p1057\",\"attributes\":{\"ticker\":{\"type\":\"object\",\"name\":\"BasicTicker\",\"id\":\"p1058\",\"attributes\":{\"mantissas\":[1,2,5]}},\"formatter\":{\"type\":\"object\",\"name\":\"BasicTickFormatter\",\"id\":\"p1059\"},\"axis_label\":\"x_Ge\",\"major_label_policy\":{\"type\":\"object\",\"name\":\"AllLabels\",\"id\":\"p1060\"}}}],\"center\":[{\"type\":\"object\",\"name\":\"Grid\",\"id\":\"p1061\",\"attributes\":{\"axis\":{\"id\":\"p1057\"}}},{\"type\":\"object\",\"name\":\"Grid\",\"id\":\"p1066\",\"attributes\":{\"dimension\":1,\"axis\":{\"id\":\"p1062\"}}}]}}]}};\n",
       "  const render_items = [{\"docid\":\"d022a2be-ce38-4f1f-b8e3-6a5725c5a659\",\"roots\":{\"p1045\":\"d8f3bd14-1211-4d43-8b83-bcaddf8c97ed\"},\"root_ids\":[\"p1045\"]}];\n",
       "  void root.Bokeh.embed.embed_items_notebook(docs_json, render_items);\n",
       "  }\n",
       "  if (root.Bokeh !== undefined) {\n",
       "    embed_document(root);\n",
       "  } else {\n",
       "    let attempts = 0;\n",
       "    const timer = setInterval(function(root) {\n",
       "      if (root.Bokeh !== undefined) {\n",
       "        clearInterval(timer);\n",
       "        embed_document(root);\n",
       "      } else {\n",
       "        attempts++;\n",
       "        if (attempts > 100) {\n",
       "          clearInterval(timer);\n",
       "          console.log(\"Bokeh: ERROR: Unable to run BokehJS code because BokehJS library is missing\");\n",
       "        }\n",
       "      }\n",
       "    }, 10, root)\n",
       "  }\n",
       "})(window);"
      ],
      "application/vnd.bokehjs_exec.v0+json": ""
     },
     "metadata": {
      "application/vnd.bokehjs_exec.v0+json": {
       "id": "p1045"
      }
     },
     "output_type": "display_data"
    }
   ],
   "source": [
    "e1 = [i['symmetry_adapted_hencky_strain'][0] for i in config_props]\n",
    "atom_fraction_Ge = [i['atom_fraction_Ge'] for i in config_props]\n",
    "p = plt.figure(title='e_1 strain', x_axis_label='x_Ge', y_axis_label='e_1')\n",
    "p.scatter(atom_fraction_Ge, e1)\n",
    "plt.show(p)"
   ]
  },
  {
   "cell_type": "markdown",
   "id": "98822195-8ac8-46f8-aa0e-2366a7de7e11",
   "metadata": {},
   "source": [
    "We can get further information about the deformation during relaxation by also including atomic deformation cost."
   ]
  },
  {
   "cell_type": "code",
   "execution_count": 25,
   "id": "e5ae680f-ce11-4bbf-a38a-5e7b7a671423",
   "metadata": {},
   "outputs": [],
   "source": [
    "# atom_cost = [i['structure_mapping'].atom_mapping().atom_cost() for i in config_props]\n",
    "# atom_fraction_Si = [i['atom_fraction_Si'] for i in config_props]\n",
    "# p = plt.figure(title='e_1 strain', x_axis_label='x_Si', y_axis_label='e_1')\n",
    "# p.scatter(atom_fraction_Si, e1)\n",
    "# plt.show(p)"
   ]
  },
  {
   "cell_type": "markdown",
   "id": "13f82f91-c3cf-458a-be48-3c07edf4e431",
   "metadata": {},
   "source": [
    "We can compare the different lattice cost metrics."
   ]
  },
  {
   "cell_type": "code",
   "execution_count": 26,
   "id": "420f7880-387d-48b1-afd3-e766caccd61a",
   "metadata": {},
   "outputs": [
    {
     "data": {
      "text/html": [
       "\n",
       "  <div id=\"a67e696c-8aa8-4d71-9735-743b2870dc15\" data-root-id=\"p1089\" style=\"display: contents;\"></div>\n"
      ]
     },
     "metadata": {},
     "output_type": "display_data"
    },
    {
     "data": {
      "application/javascript": [
       "(function(root) {\n",
       "  function embed_document(root) {\n",
       "  const docs_json = {\"b38efd29-08fe-4191-b2d2-6494498e55eb\":{\"version\":\"3.5.0\",\"title\":\"Bokeh Application\",\"roots\":[{\"type\":\"object\",\"name\":\"Figure\",\"id\":\"p1089\",\"attributes\":{\"x_range\":{\"type\":\"object\",\"name\":\"DataRange1d\",\"id\":\"p1090\"},\"y_range\":{\"type\":\"object\",\"name\":\"DataRange1d\",\"id\":\"p1091\"},\"x_scale\":{\"type\":\"object\",\"name\":\"LinearScale\",\"id\":\"p1099\"},\"y_scale\":{\"type\":\"object\",\"name\":\"LinearScale\",\"id\":\"p1100\"},\"title\":{\"type\":\"object\",\"name\":\"Title\",\"id\":\"p1092\",\"attributes\":{\"text\":\"lattice cost\"}},\"renderers\":[{\"type\":\"object\",\"name\":\"GlyphRenderer\",\"id\":\"p1130\",\"attributes\":{\"data_source\":{\"type\":\"object\",\"name\":\"ColumnDataSource\",\"id\":\"p1124\",\"attributes\":{\"selected\":{\"type\":\"object\",\"name\":\"Selection\",\"id\":\"p1125\",\"attributes\":{\"indices\":[],\"line_indices\":[]}},\"selection_policy\":{\"type\":\"object\",\"name\":\"UnionRenderers\",\"id\":\"p1126\"},\"data\":{\"type\":\"map\",\"entries\":[[\"x\",[0.625,0.125,0.75,0.75,0.5,0.25,0.125,0.75,0.625,0.75,0.25,0.125,0.75,0.25,0.5,0.25,0.125,0.3333333333333333,0.8333333333333334,0.6666666666666666,0.5,0.3333333333333333,0.3333333333333333,0.6666666666666666,0.6666666666666666,0.6666666666666666,0.3333333333333333,0.5,0.5,0.125,0.3333333333333333,0.8333333333333334,0.5,0.6666666666666666,0.3333333333333333,0.6666666666666666,0.16666666666666666,0.5,1.0,0.0,0.5,0.75,0.25,0.875,0.125,0.5,0.5,0.3333333333333333,0.8333333333333334,0.6666666666666666,0.6666666666666666,0.5]],[\"y\",[1.3776805690868608e-07,1.0950751701715489e-09,6.525841064623691e-08,1.0152587019810319e-07,1.3913852473115924e-07,2.6077306006115955e-11,1.0707949645654953e-09,6.109258416895932e-08,6.682666462349417e-08,1.264391623265997e-07,4.2036928812747335e-08,0.0,1.5701672103158378e-08,8.504989023173438e-12,3.1835685337289087e-07,5.894018914408163e-08,8.005421560040139e-10,1.0384328860978084e-07,3.60099567307165e-09,1.593322537824183e-07,7.745101498985671e-08,1.8531233387255497e-09,1.0229526299435424e-07,2.4556846298663708e-08,6.954705967598638e-09,1.5672965942447032e-09,1.0496401578855243e-10,9.731004033303214e-08,1.1305394973073302e-08,4.373768311766778e-10,1.242165632574806e-07,1.297510633676512e-08,1.5800882403298486e-07,1.9002962208922197e-07,1.1500952212713617e-07,1.2499965509964304e-07,4.381279717758814e-09,1.0419893882829848e-07,0.0,0.0,0.0,1.4915442493739857e-07,5.591276037767742e-08,1.213528783864925e-10,3.2429361216105856e-09,7.696338323005965e-08,1.9630600932174633e-07,9.063701294348246e-10,3.57342775697752e-08,3.688062147865428e-07,2.538890472975155e-08,1.9118817110389718e-07]]]}}},\"view\":{\"type\":\"object\",\"name\":\"CDSView\",\"id\":\"p1131\",\"attributes\":{\"filter\":{\"type\":\"object\",\"name\":\"AllIndices\",\"id\":\"p1132\"}}},\"glyph\":{\"type\":\"object\",\"name\":\"Scatter\",\"id\":\"p1127\",\"attributes\":{\"x\":{\"type\":\"field\",\"field\":\"x\"},\"y\":{\"type\":\"field\",\"field\":\"y\"},\"line_color\":{\"type\":\"value\",\"value\":\"blue\"},\"fill_color\":{\"type\":\"value\",\"value\":\"blue\"},\"hatch_color\":{\"type\":\"value\",\"value\":\"blue\"}}},\"nonselection_glyph\":{\"type\":\"object\",\"name\":\"Scatter\",\"id\":\"p1128\",\"attributes\":{\"x\":{\"type\":\"field\",\"field\":\"x\"},\"y\":{\"type\":\"field\",\"field\":\"y\"},\"line_color\":{\"type\":\"value\",\"value\":\"blue\"},\"line_alpha\":{\"type\":\"value\",\"value\":0.1},\"fill_color\":{\"type\":\"value\",\"value\":\"blue\"},\"fill_alpha\":{\"type\":\"value\",\"value\":0.1},\"hatch_color\":{\"type\":\"value\",\"value\":\"blue\"},\"hatch_alpha\":{\"type\":\"value\",\"value\":0.1}}},\"muted_glyph\":{\"type\":\"object\",\"name\":\"Scatter\",\"id\":\"p1129\",\"attributes\":{\"x\":{\"type\":\"field\",\"field\":\"x\"},\"y\":{\"type\":\"field\",\"field\":\"y\"},\"line_color\":{\"type\":\"value\",\"value\":\"blue\"},\"line_alpha\":{\"type\":\"value\",\"value\":0.2},\"fill_color\":{\"type\":\"value\",\"value\":\"blue\"},\"fill_alpha\":{\"type\":\"value\",\"value\":0.2},\"hatch_color\":{\"type\":\"value\",\"value\":\"blue\"},\"hatch_alpha\":{\"type\":\"value\",\"value\":0.2}}}}},{\"type\":\"object\",\"name\":\"GlyphRenderer\",\"id\":\"p1141\",\"attributes\":{\"data_source\":{\"type\":\"object\",\"name\":\"ColumnDataSource\",\"id\":\"p1135\",\"attributes\":{\"selected\":{\"type\":\"object\",\"name\":\"Selection\",\"id\":\"p1136\",\"attributes\":{\"indices\":[],\"line_indices\":[]}},\"selection_policy\":{\"type\":\"object\",\"name\":\"UnionRenderers\",\"id\":\"p1137\"},\"data\":{\"type\":\"map\",\"entries\":[[\"x\",[0.625,0.125,0.75,0.75,0.5,0.25,0.125,0.75,0.625,0.75,0.25,0.125,0.75,0.25,0.5,0.25,0.125,0.3333333333333333,0.8333333333333334,0.6666666666666666,0.5,0.3333333333333333,0.3333333333333333,0.6666666666666666,0.6666666666666666,0.6666666666666666,0.3333333333333333,0.5,0.5,0.125,0.3333333333333333,0.8333333333333334,0.5,0.6666666666666666,0.3333333333333333,0.6666666666666666,0.16666666666666666,0.5,1.0,0.0,0.5,0.75,0.25,0.875,0.125,0.5,0.5,0.3333333333333333,0.8333333333333334,0.6666666666666666,0.6666666666666666,0.5]],[\"y\",[2.3157396790699785e-32,1.9930872147453943e-19,2.889162610929788e-32,1.9045924719501555e-32,1.0614016038154458e-31,3.2946650439526853e-32,1.643575346517858e-32,4.422732505398014e-08,3.9094340098100175e-08,1.6442631567672912e-32,4.0977443899734254e-08,1.9721522630525295e-31,3.335047767880418e-32,8.221651409504109e-32,2.913595534608001e-07,5.5341023912463215e-08,2.657471603290485e-19,1.3297097371248612e-31,2.1539845605741617e-32,1.3854731026253978e-31,3.606886180358069e-32,1.3958164748646e-32,1.1648270628495217e-31,1.5304386144923738e-31,3.4470607337969896e-32,3.445632202807716e-32,1.3597420972651909e-31,1.3653319179321798e-31,8.604450074782397e-32,1.3381594282756119e-31,2.3610025481461735e-19,1.1813252528597183e-19,3.367438979708559e-32,1.4074745459605329e-33,3.713379372732909e-08,5.41537670579912e-08,1.1812066624486206e-19,3.806819339745346e-08,4.437342591868191e-31,7.888609052210118e-31,1.115498623789087e-30,3.28774558985491e-32,1.1233516658728064e-32,3.50353703633056e-32,4.8992605594320846e-33,2.700396157003622e-32,2.1855908468917805e-33,1.027225528960126e-31,1.643460523596399e-32,1.7873230351794683e-07,1.488487954068338e-31,1.7442035059559902e-07]]]}}},\"view\":{\"type\":\"object\",\"name\":\"CDSView\",\"id\":\"p1142\",\"attributes\":{\"filter\":{\"type\":\"object\",\"name\":\"AllIndices\",\"id\":\"p1143\"}}},\"glyph\":{\"type\":\"object\",\"name\":\"Scatter\",\"id\":\"p1138\",\"attributes\":{\"x\":{\"type\":\"field\",\"field\":\"x\"},\"y\":{\"type\":\"field\",\"field\":\"y\"},\"line_color\":{\"type\":\"value\",\"value\":\"orange\"},\"fill_color\":{\"type\":\"value\",\"value\":\"orange\"},\"hatch_color\":{\"type\":\"value\",\"value\":\"orange\"}}},\"nonselection_glyph\":{\"type\":\"object\",\"name\":\"Scatter\",\"id\":\"p1139\",\"attributes\":{\"x\":{\"type\":\"field\",\"field\":\"x\"},\"y\":{\"type\":\"field\",\"field\":\"y\"},\"line_color\":{\"type\":\"value\",\"value\":\"orange\"},\"line_alpha\":{\"type\":\"value\",\"value\":0.1},\"fill_color\":{\"type\":\"value\",\"value\":\"orange\"},\"fill_alpha\":{\"type\":\"value\",\"value\":0.1},\"hatch_color\":{\"type\":\"value\",\"value\":\"orange\"},\"hatch_alpha\":{\"type\":\"value\",\"value\":0.1}}},\"muted_glyph\":{\"type\":\"object\",\"name\":\"Scatter\",\"id\":\"p1140\",\"attributes\":{\"x\":{\"type\":\"field\",\"field\":\"x\"},\"y\":{\"type\":\"field\",\"field\":\"y\"},\"line_color\":{\"type\":\"value\",\"value\":\"orange\"},\"line_alpha\":{\"type\":\"value\",\"value\":0.2},\"fill_color\":{\"type\":\"value\",\"value\":\"orange\"},\"fill_alpha\":{\"type\":\"value\",\"value\":0.2},\"hatch_color\":{\"type\":\"value\",\"value\":\"orange\"},\"hatch_alpha\":{\"type\":\"value\",\"value\":0.2}}}}}],\"toolbar\":{\"type\":\"object\",\"name\":\"Toolbar\",\"id\":\"p1098\",\"attributes\":{\"tools\":[{\"type\":\"object\",\"name\":\"PanTool\",\"id\":\"p1111\"},{\"type\":\"object\",\"name\":\"WheelZoomTool\",\"id\":\"p1112\",\"attributes\":{\"renderers\":\"auto\"}},{\"type\":\"object\",\"name\":\"BoxZoomTool\",\"id\":\"p1113\",\"attributes\":{\"overlay\":{\"type\":\"object\",\"name\":\"BoxAnnotation\",\"id\":\"p1114\",\"attributes\":{\"syncable\":false,\"line_color\":\"black\",\"line_alpha\":1.0,\"line_width\":2,\"line_dash\":[4,4],\"fill_color\":\"lightgrey\",\"fill_alpha\":0.5,\"level\":\"overlay\",\"visible\":false,\"left\":{\"type\":\"number\",\"value\":\"nan\"},\"right\":{\"type\":\"number\",\"value\":\"nan\"},\"top\":{\"type\":\"number\",\"value\":\"nan\"},\"bottom\":{\"type\":\"number\",\"value\":\"nan\"},\"left_units\":\"canvas\",\"right_units\":\"canvas\",\"top_units\":\"canvas\",\"bottom_units\":\"canvas\",\"handles\":{\"type\":\"object\",\"name\":\"BoxInteractionHandles\",\"id\":\"p1120\",\"attributes\":{\"all\":{\"type\":\"object\",\"name\":\"AreaVisuals\",\"id\":\"p1119\",\"attributes\":{\"fill_color\":\"white\",\"hover_fill_color\":\"lightgray\"}}}}}}}},{\"type\":\"object\",\"name\":\"SaveTool\",\"id\":\"p1121\"},{\"type\":\"object\",\"name\":\"ResetTool\",\"id\":\"p1122\"},{\"type\":\"object\",\"name\":\"HelpTool\",\"id\":\"p1123\"}]}},\"left\":[{\"type\":\"object\",\"name\":\"LinearAxis\",\"id\":\"p1106\",\"attributes\":{\"ticker\":{\"type\":\"object\",\"name\":\"BasicTicker\",\"id\":\"p1107\",\"attributes\":{\"mantissas\":[1,2,5]}},\"formatter\":{\"type\":\"object\",\"name\":\"BasicTickFormatter\",\"id\":\"p1108\"},\"axis_label\":\"cost\",\"major_label_policy\":{\"type\":\"object\",\"name\":\"AllLabels\",\"id\":\"p1109\"}}}],\"below\":[{\"type\":\"object\",\"name\":\"LinearAxis\",\"id\":\"p1101\",\"attributes\":{\"ticker\":{\"type\":\"object\",\"name\":\"BasicTicker\",\"id\":\"p1102\",\"attributes\":{\"mantissas\":[1,2,5]}},\"formatter\":{\"type\":\"object\",\"name\":\"BasicTickFormatter\",\"id\":\"p1103\"},\"axis_label\":\"x_Ge\",\"major_label_policy\":{\"type\":\"object\",\"name\":\"AllLabels\",\"id\":\"p1104\"}}}],\"center\":[{\"type\":\"object\",\"name\":\"Grid\",\"id\":\"p1105\",\"attributes\":{\"axis\":{\"id\":\"p1101\"}}},{\"type\":\"object\",\"name\":\"Grid\",\"id\":\"p1110\",\"attributes\":{\"dimension\":1,\"axis\":{\"id\":\"p1106\"}}},{\"type\":\"object\",\"name\":\"Legend\",\"id\":\"p1133\",\"attributes\":{\"items\":[{\"type\":\"object\",\"name\":\"LegendItem\",\"id\":\"p1134\",\"attributes\":{\"label\":{\"type\":\"value\",\"value\":\"isotropic\"},\"renderers\":[{\"id\":\"p1130\"}]}},{\"type\":\"object\",\"name\":\"LegendItem\",\"id\":\"p1144\",\"attributes\":{\"label\":{\"type\":\"value\",\"value\":\"symmetry_breaking\"},\"renderers\":[{\"id\":\"p1141\"}]}}]}}]}}]}};\n",
       "  const render_items = [{\"docid\":\"b38efd29-08fe-4191-b2d2-6494498e55eb\",\"roots\":{\"p1089\":\"a67e696c-8aa8-4d71-9735-743b2870dc15\"},\"root_ids\":[\"p1089\"]}];\n",
       "  void root.Bokeh.embed.embed_items_notebook(docs_json, render_items);\n",
       "  }\n",
       "  if (root.Bokeh !== undefined) {\n",
       "    embed_document(root);\n",
       "  } else {\n",
       "    let attempts = 0;\n",
       "    const timer = setInterval(function(root) {\n",
       "      if (root.Bokeh !== undefined) {\n",
       "        clearInterval(timer);\n",
       "        embed_document(root);\n",
       "      } else {\n",
       "        attempts++;\n",
       "        if (attempts > 100) {\n",
       "          clearInterval(timer);\n",
       "          console.log(\"Bokeh: ERROR: Unable to run BokehJS code because BokehJS library is missing\");\n",
       "        }\n",
       "      }\n",
       "    }, 10, root)\n",
       "  }\n",
       "})(window);"
      ],
      "application/vnd.bokehjs_exec.v0+json": ""
     },
     "metadata": {
      "application/vnd.bokehjs_exec.v0+json": {
       "id": "p1089"
      }
     },
     "output_type": "display_data"
    }
   ],
   "source": [
    "lattice_isotropic_strain_cost = [i['lattice_isotropic_strain_cost'] for i in config_props]\n",
    "lattice_symmetry_breaking_strain_cost = [i['lattice_symmetry_breaking_strain_cost'] for i in config_props]\n",
    "p = plt.figure(title='lattice cost', x_axis_label='x_Ge', y_axis_label='cost')\n",
    "p.scatter(atom_fraction_Ge, lattice_isotropic_strain_cost, color='blue', legend_label='isotropic')\n",
    "p.scatter(atom_fraction_Ge, lattice_symmetry_breaking_strain_cost, color='orange', legend_label='symmetry_breaking')\n",
    "plt.show(p)"
   ]
  }
 ],
 "metadata": {
  "kernelspec": {
   "display_name": "Python 3 (ipykernel)",
   "language": "python",
   "name": "python3"
  },
  "language_info": {
   "codemirror_mode": {
    "name": "ipython",
    "version": 3
   },
   "file_extension": ".py",
   "mimetype": "text/x-python",
   "name": "python",
   "nbconvert_exporter": "python",
   "pygments_lexer": "ipython3",
   "version": "3.11.9"
  }
 },
 "nbformat": 4,
 "nbformat_minor": 5
}
