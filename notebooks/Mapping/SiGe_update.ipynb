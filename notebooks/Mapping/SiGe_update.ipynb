{
 "cells": [
  {
   "cell_type": "markdown",
   "id": "965acd43-1eab-4fa0-b402-422657f257c1",
   "metadata": {},
   "source": [
    "Read data from completed DFT calculations back into CASM."
   ]
  },
  {
   "cell_type": "markdown",
   "id": "0568e21e-1474-480c-a765-64f97afccfe6",
   "metadata": {},
   "source": [
    "# Create working directory"
   ]
  },
  {
   "cell_type": "code",
   "execution_count": 5,
   "id": "bef7016f-91bc-47c4-8ce0-f707b5193611",
   "metadata": {},
   "outputs": [],
   "source": [
    "import copy\n",
    "import shutil\n",
    "import os"
   ]
  },
  {
   "cell_type": "code",
   "execution_count": 6,
   "id": "4e878387-d47d-4feb-92c9-19eb8a7a43fa",
   "metadata": {
    "jupyter": {
     "source_hidden": true
    }
   },
   "outputs": [],
   "source": [
    "shutil.copytree('input', 'SiGe')\n",
    "os.chdir('SiGe')"
   ]
  },
  {
   "cell_type": "markdown",
   "id": "52224b5c-682b-44b5-bc83-3921435e287e",
   "metadata": {},
   "source": [
    "# Set up project"
   ]
  },
  {
   "cell_type": "code",
   "execution_count": 109,
   "id": "1fdb1a4f-a076-4117-9508-31c363fd2f8c",
   "metadata": {},
   "outputs": [],
   "source": [
    "import json\n",
    "import libcasm.configuration as casmconfig\n",
    "import libcasm.mapping.methods as mapmethods\n",
    "import libcasm.xtal as xtal"
   ]
  },
  {
   "cell_type": "markdown",
   "id": "e11dcdfc-65be-43dc-ba2e-b1a2776917a3",
   "metadata": {},
   "source": [
    "Read prim"
   ]
  },
  {
   "cell_type": "code",
   "execution_count": 8,
   "id": "2aca0423-3c85-44f2-b02b-e00b3c1988e5",
   "metadata": {},
   "outputs": [],
   "source": [
    "with open('prim.json', 'r') as f:\n",
    "    prim = xtal.Prim.from_dict(json.load(f))\n",
    "\n",
    "config_prim = casmconfig.Prim(prim)"
   ]
  },
  {
   "cell_type": "markdown",
   "id": "ae4bd836-766b-4a4b-b246-d175d3e58e4b",
   "metadata": {},
   "source": [
    "Read enumerated configurations from JSON"
   ]
  },
  {
   "cell_type": "code",
   "execution_count": 9,
   "id": "f7f15181-0bfe-4bba-9137-0be5dbee6d6f",
   "metadata": {},
   "outputs": [],
   "source": [
    "with open('config_list.json', 'r') as f:\n",
    "    config_data = json.load(f)"
   ]
  },
  {
   "cell_type": "markdown",
   "id": "e942d38e-6b59-406a-9222-0a607bcfc73a",
   "metadata": {},
   "source": [
    "Create a config list from the enumerated configurations"
   ]
  },
  {
   "cell_type": "code",
   "execution_count": 10,
   "id": "4741a600-99e5-4fa9-a625-09b49727f392",
   "metadata": {},
   "outputs": [],
   "source": [
    "supercell_set = casmconfig.SupercellSet(prim=config_prim)\n",
    "config_list = [\n",
    "    casmconfig.Configuration.from_dict(\n",
    "        data=d,\n",
    "        supercells=supercell_set,\n",
    "    ) for d in config_data\n",
    "]\n",
    "config_set = casmconfig.ConfigurationSet()\n",
    "for config in config_list:\n",
    "    config_set.add(config)"
   ]
  },
  {
   "cell_type": "markdown",
   "id": "2fb5952b-d614-4213-b2f5-4644d5027751",
   "metadata": {},
   "source": [
    "# Read DFT data"
   ]
  },
  {
   "cell_type": "markdown",
   "id": "4e7bc1bf-a03e-44a0-927b-cfef1e66908c",
   "metadata": {},
   "source": [
    "The `training_data` folder contains the results of DFT calculations. Each directory labeled `SCELX_X_X_X_X_X_X/Y` corresponds to a configuration. The unrelaxed structure can be found in the file `POS` and the DFT data, including the relaxed structure, can be found in the file `calctype.default/properties.calc.json`."
   ]
  },
  {
   "cell_type": "code",
   "execution_count": 11,
   "id": "9d689ed7-bf0f-4f72-9e5a-d4b572254a78",
   "metadata": {},
   "outputs": [],
   "source": [
    "from pathlib import Path"
   ]
  },
  {
   "cell_type": "code",
   "execution_count": 29,
   "id": "be465c89-67f5-4e42-8acd-db7cb2ef8e7c",
   "metadata": {},
   "outputs": [],
   "source": [
    "training_data = Path('training_data')\n",
    "training_data = [i for i in training_data.rglob('SCEL*/[0-9]*/')]"
   ]
  },
  {
   "cell_type": "markdown",
   "id": "00e16fb9-0150-4580-ad3c-15bed93186c8",
   "metadata": {},
   "source": [
    "We will now read the training data into configurations with properties. For each folder in `training_data`, we will find a match with a configuration in `config_set` by reading the unrelaxed structure from `POS`. Then, we will use `properties.calc.json` to get the DFT energy and calculate the deformation from structural relaxation. Note that the training data does not contain calculations for every enumerated configuration in the `config_list`. Also, the name of each configuration (e.g. `SCEL1_1_1_1_0_0_0/1`) is not a unique identifier -- the \"fingerprint\" of a configuration is its occupation string. For simplicity, we ignore configurations which are not primitive. Results are written to a file called `config_props.json`."
   ]
  },
  {
   "cell_type": "code",
   "execution_count": 151,
   "id": "c3359199-8486-4f34-82c1-3c945406671a",
   "metadata": {},
   "outputs": [],
   "source": [
    "config_props = []\n",
    "for t in training_data:\n",
    "    pos = t/'POS'\n",
    "    properties = t/'calctype.default/properties.calc.json'\n",
    "    if not pos.exists() or not properties.exists(): continue\n",
    "\n",
    "    struc = xtal.Structure.from_poscar(pos.as_posix())\n",
    "    struc_as_prim = xtal.Prim.from_poscar(pos.as_posix())\n",
    "    config = casmconfig.Configuration.from_structure(config_prim, struc)\n",
    "    if not casmconfig.is_primitive_configuration(config): continue\n",
    "\n",
    "    enumerated_config = config_set.get(config)\n",
    "    if not enumerated_config:\n",
    "        raise ValueError(f'missing config: {t}')\n",
    "\n",
    "    with open(properties, 'r') as f:\n",
    "        props = json.load(f)\n",
    "        relaxed_struc = xtal.Structure.from_dict(props)\n",
    "\n",
    "    maps = mapmethods.map_structures(\n",
    "        struc_as_prim,\n",
    "        relaxed_struc,\n",
    "        structure_factor_group=xtal.make_factor_group(relaxed_struc),\n",
    "        max_vol=1\n",
    "    )\n",
    "    assert len(maps) == 1\n",
    "\n",
    "    config_with_properties = casmconfig.ConfigurationWithProperties(\n",
    "        config,\n",
    "        local_properties={\n",
    "            'force': props['atom_properties']['force']['value']\n",
    "        },\n",
    "        global_properties={\n",
    "            'energy': [props['global_properties']['energy']['value']],\n",
    "            'atomic_deformation_cost': [maps[0].atom_cost()],\n",
    "            'lattice_deformation_cost': [maps[0].lattice_cost()],\n",
    "            'total_cost': [maps[0].total_cost()], ## cannot store strings?\n",
    "            #'init': [enumerated_config.configuration_name],\n",
    "            #'path': properties.as_posix()\n",
    "        }\n",
    "    )\n",
    "    config_props.append(config_with_properties.to_dict())"
   ]
  },
  {
   "cell_type": "code",
   "execution_count": 152,
   "id": "07478d75-91d4-48c4-ad17-54ffd7250e55",
   "metadata": {},
   "outputs": [],
   "source": [
    "with open('config_props.json', 'w') as f:\n",
    "    json.dump(config_props, f)"
   ]
  }
 ],
 "metadata": {
  "kernelspec": {
   "display_name": "Python 3 (ipykernel)",
   "language": "python",
   "name": "python3"
  },
  "language_info": {
   "codemirror_mode": {
    "name": "ipython",
    "version": 3
   },
   "file_extension": ".py",
   "mimetype": "text/x-python",
   "name": "python",
   "nbconvert_exporter": "python",
   "pygments_lexer": "ipython3",
   "version": "3.11.9"
  }
 },
 "nbformat": 4,
 "nbformat_minor": 5
}
