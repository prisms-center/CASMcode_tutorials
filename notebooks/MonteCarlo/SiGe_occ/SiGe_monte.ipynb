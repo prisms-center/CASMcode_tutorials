{
 "cells": [
  {
   "cell_type": "markdown",
   "id": "5562968b4d6cf6d3",
   "metadata": {
    "collapsed": false,
    "jupyter": {
     "outputs_hidden": false
    }
   },
   "source": [
    "After obtaining ECIs from fitting, the next step is to run Monte Carlo to probe the finite temperature properties of a system.\n",
    "This notebook illustrates how to obtain a phase diagram of the binary Si-Ge system.\n",
    "First we start from `system.json` -> A file containing information about the `PRIM`, composition axis, paths to cluster expansion basis sets and their corresponding coefficients.\n",
    "`*_Clexulator.cc` -> A `C++` file containing the basis functions of the cluster expansion.\n",
    "`eci.json` -> A file containing ECIs of the basis functions."
   ]
  },
  {
   "cell_type": "code",
   "execution_count": 2,
   "id": "c3a2136e2aad6876",
   "metadata": {
    "collapsed": false,
    "jupyter": {
     "outputs_hidden": false
    }
   },
   "outputs": [],
   "source": [
    "import os\n",
    "import json\n",
    "import numpy as np\n",
    "import libcasm.clexmonte as clexmonte\n",
    "\n",
    "\n",
    "# read the system information into a dictionary\n",
    "with open(\"./input_files/system.json\", \"r\") as f:\n",
    "    system_dict = json.load(f)\n",
    "\n",
    "\n",
    "# construct a clexmonte.System object\n",
    "os.environ['CASM_PREFIX'] = \"/home/sesha/.local/miniconda3/envs/casm2.X_vanilla/lib/python3.11/site-packages/libcasm\"\n",
    "os.environ['CASM_CXX'] = \"clang++\"\n",
    "\n",
    "system = clexmonte.System.from_dict(data=system_dict, search_path=['input_files'])\n",
    "\n",
    "output_dir = \"summary.json\"\n",
    "\n",
    "# Now you are ready to run Monte Carlo\n",
    "# let's do semi-grand canonical ensemble first\n",
    "calculator = clexmonte.MonteCalculator(\n",
    "       method=\"semigrand_canonical\",\n",
    "       system=system,\n",
    "   )\n",
    "\n",
    "# construct default sampling fixture parameters\n",
    "thermo = calculator.make_default_sampling_fixture_params(\n",
    "    label=\"thermo\",\n",
    "    output_dir=str(output_dir),\n",
    ")\n",
    "\n",
    "# set lower convergence level for potential_energy\n",
    "thermo.converge(quantity=\"potential_energy\", abs=2e-3)\n",
    "\n",
    "# set lower convergence level for param_composition(\"a\")\n",
    "thermo.converge(quantity=\"param_composition\", abs=2e-3, component_name=[\"a\"])\n",
    "\n",
    "# construct the initial state (default configuration)\n",
    "state, motif, motif_id = clexmonte.make_initial_state(\n",
    "    calculator=calculator,\n",
    "    conditions={\n",
    "        \"temperature\": 300.0,\n",
    "        \"param_chem_pot\": [-1.0],\n",
    "    },\n",
    "    min_volume=1000,\n",
    ")\n",
    "\n",
    "# Run several, w/ dependent runs\n",
    "x_list = np.arange(-4.0, 0.01, step=0.5)\n",
    "for x in x_list:\n",
    "    state.conditions.vector_values[\"param_chem_pot\"] = [x]\n",
    "    sampling_fixture = calculator.run_fixture(\n",
    "        state=state,\n",
    "        sampling_fixture_params=thermo,\n",
    "    )\n",
    "\n",
    "\n",
    "\n",
    "\n",
    "\n",
    "\n",
    "\n",
    "\n"
   ]
  }
 ],
 "metadata": {
  "kernelspec": {
   "display_name": "Python 3 (ipykernel)",
   "language": "python",
   "name": "python3"
  },
  "language_info": {
   "codemirror_mode": {
    "name": "ipython",
    "version": 3
   },
   "file_extension": ".py",
   "mimetype": "text/x-python",
   "name": "python",
   "nbconvert_exporter": "python",
   "pygments_lexer": "ipython3",
   "version": "3.11.9"
  }
 },
 "nbformat": 4,
 "nbformat_minor": 5
}
