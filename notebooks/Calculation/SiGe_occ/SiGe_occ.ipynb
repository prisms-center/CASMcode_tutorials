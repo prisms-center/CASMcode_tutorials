{
 "cells": [
  {
   "cell_type": "markdown",
   "id": "d3d3729b944fb130",
   "metadata": {
    "collapsed": false,
    "jupyter": {
     "outputs_hidden": false
    }
   },
   "source": [
    "Read a list configurations from a JSON file"
   ]
  },
  {
   "cell_type": "code",
   "execution_count": 9,
   "id": "7420e395",
   "metadata": {},
   "outputs": [],
   "source": [
    "%load_ext blackcellmagic"
   ]
  },
  {
   "cell_type": "code",
   "execution_count": 10,
   "id": "54461d3b-a7c6-4bad-9441-cc69e860b3ca",
   "metadata": {},
   "outputs": [],
   "source": [
    "import json\n",
    "import libcasm.configuration as casmconfig\n",
    "\n",
    "# read prim.json\n",
    "with open(\"prim.json\", \"r\") as f:\n",
    "    prim = casmconfig.Prim.from_dict(json.load(f))"
   ]
  },
  {
   "cell_type": "code",
   "execution_count": 11,
   "id": "df5950d3",
   "metadata": {},
   "outputs": [],
   "source": [
    "import ase\n",
    "import libcasm.xtal as xtal\n",
    "\n",
    "# Conversion function from ase.Atoms to libcasm.xtal.Structure\n",
    "def casm_structure_to_ase_atoms(casm_structure: xtal.Structure) -> ase.Atoms:\n",
    "    \"\"\"Given `xtal.Structure`, convert it to `xtal.Structure`\n",
    "\n",
    "    Parameters\n",
    "    ----------\n",
    "    casm_structure : xtal.Structure\n",
    "\n",
    "    Returns\n",
    "    -------\n",
    "    ase.Atoms\n",
    "\n",
    "    \"\"\"\n",
    "    if len(casm_structure.mol_type()):\n",
    "        raise ValueError(\n",
    "            \"Error: only atomic structures may be converted using \" \"make_ase_atoms\"\n",
    "        )\n",
    "\n",
    "    symbols = casm_structure.atom_type()\n",
    "    positions = casm_structure.atom_coordinate_cart().transpose()\n",
    "    cell = casm_structure.lattice().column_vector_matrix().transpose()\n",
    "\n",
    "    return ase.Atoms(\n",
    "        symbols=symbols,\n",
    "        positions=positions,\n",
    "        cell=cell,\n",
    "        pbc=True,\n",
    "    )\n",
    "\n",
    "\n",
    "# Conversion function from ase.Atoms to libcasm.xtal.Structure\n",
    "def ase_atoms_to_casm_structure(ase_atoms: ase.Atoms) -> xtal.Structure:\n",
    "    \"\"\"Given `ase.Atoms`, convert it to `xtal.Structure`\n",
    "\n",
    "    Parameters\n",
    "    ----------\n",
    "    ase_atoms : ase.Atoms\n",
    "\n",
    "    Returns\n",
    "    -------\n",
    "    xtal.Structure\n",
    "\n",
    "    \"\"\"\n",
    "\n",
    "    lattice = xtal.Lattice(\n",
    "        column_vector_matrix=ase_atoms.get_cell().transpose(),\n",
    "    )\n",
    "    atom_coordinate_frac = ase_atoms.get_scaled_positions().transpose()\n",
    "    atom_type = ase_atoms.get_chemical_symbols()\n",
    "\n",
    "    return xtal.Structure(\n",
    "        lattice=lattice,\n",
    "        atom_coordinate_frac=atom_coordinate_frac,\n",
    "        atom_type=atom_type,\n",
    "    )"
   ]
  },
  {
   "cell_type": "code",
   "execution_count": 18,
   "id": "210ea12c40e3f6d4",
   "metadata": {
    "collapsed": false,
    "jupyter": {
     "outputs_hidden": false
    }
   },
   "outputs": [
    {
     "name": "stdout",
     "output_type": "stream",
     "text": [
      "Writing POSCAR for:  SCEL1_1_1_1_0_0_0/0  at  SiGe/training_data/occ/SCEL1_1_1_1_0_0_0/0/calctype.default/POSCAR\n",
      "Writing POSCAR for:  SCEL1_1_1_1_0_0_0/1  at  SiGe/training_data/occ/SCEL1_1_1_1_0_0_0/1/calctype.default/POSCAR\n",
      "Writing POSCAR for:  SCEL2_2_1_1_0_1_1/0  at  SiGe/training_data/occ/SCEL2_2_1_1_0_1_1/0/calctype.default/POSCAR\n",
      "Writing POSCAR for:  SCEL2_2_1_1_0_0_1/0  at  SiGe/training_data/occ/SCEL2_2_1_1_0_0_1/0/calctype.default/POSCAR\n",
      "Writing POSCAR for:  SCEL3_3_1_1_0_2_2/0  at  SiGe/training_data/occ/SCEL3_3_1_1_0_2_2/0/calctype.default/POSCAR\n",
      "Writing POSCAR for:  SCEL3_3_1_1_0_2_2/1  at  SiGe/training_data/occ/SCEL3_3_1_1_0_2_2/1/calctype.default/POSCAR\n",
      "Writing POSCAR for:  SCEL3_3_1_1_0_0_2/0  at  SiGe/training_data/occ/SCEL3_3_1_1_0_0_2/0/calctype.default/POSCAR\n",
      "Writing POSCAR for:  SCEL3_3_1_1_0_0_2/1  at  SiGe/training_data/occ/SCEL3_3_1_1_0_0_2/1/calctype.default/POSCAR\n",
      "Writing POSCAR for:  SCEL3_3_1_1_0_2_1/0  at  SiGe/training_data/occ/SCEL3_3_1_1_0_2_1/0/calctype.default/POSCAR\n",
      "Writing POSCAR for:  SCEL3_3_1_1_0_2_1/1  at  SiGe/training_data/occ/SCEL3_3_1_1_0_2_1/1/calctype.default/POSCAR\n",
      "Writing POSCAR for:  SCEL4_4_1_1_0_0_2/0  at  SiGe/training_data/occ/SCEL4_4_1_1_0_0_2/0/calctype.default/POSCAR\n",
      "Writing POSCAR for:  SCEL4_4_1_1_0_0_2/1  at  SiGe/training_data/occ/SCEL4_4_1_1_0_0_2/1/calctype.default/POSCAR\n",
      "Writing POSCAR for:  SCEL4_4_1_1_0_0_2/2  at  SiGe/training_data/occ/SCEL4_4_1_1_0_0_2/2/calctype.default/POSCAR\n",
      "Writing POSCAR for:  SCEL4_2_2_1_0_1_0/0  at  SiGe/training_data/occ/SCEL4_2_2_1_0_1_0/0/calctype.default/POSCAR\n",
      "Writing POSCAR for:  SCEL4_2_2_1_0_1_0/1  at  SiGe/training_data/occ/SCEL4_2_2_1_0_1_0/1/calctype.default/POSCAR\n",
      "Writing POSCAR for:  SCEL4_4_1_1_0_2_1/0  at  SiGe/training_data/occ/SCEL4_4_1_1_0_2_1/0/calctype.default/POSCAR\n",
      "Writing POSCAR for:  SCEL4_4_1_1_0_2_1/1  at  SiGe/training_data/occ/SCEL4_4_1_1_0_2_1/1/calctype.default/POSCAR\n",
      "Writing POSCAR for:  SCEL4_4_1_1_0_2_1/2  at  SiGe/training_data/occ/SCEL4_4_1_1_0_2_1/2/calctype.default/POSCAR\n",
      "Writing POSCAR for:  SCEL4_4_1_1_0_0_0/0  at  SiGe/training_data/occ/SCEL4_4_1_1_0_0_0/0/calctype.default/POSCAR\n",
      "Writing POSCAR for:  SCEL4_4_1_1_0_0_0/1  at  SiGe/training_data/occ/SCEL4_4_1_1_0_0_0/1/calctype.default/POSCAR\n",
      "Writing POSCAR for:  SCEL4_4_1_1_0_0_0/2  at  SiGe/training_data/occ/SCEL4_4_1_1_0_0_0/2/calctype.default/POSCAR\n",
      "Writing POSCAR for:  SCEL4_4_1_1_0_1_0/0  at  SiGe/training_data/occ/SCEL4_4_1_1_0_1_0/0/calctype.default/POSCAR\n",
      "Writing POSCAR for:  SCEL4_4_1_1_0_1_0/1  at  SiGe/training_data/occ/SCEL4_4_1_1_0_1_0/1/calctype.default/POSCAR\n",
      "Writing POSCAR for:  SCEL4_4_1_1_0_1_0/2  at  SiGe/training_data/occ/SCEL4_4_1_1_0_1_0/2/calctype.default/POSCAR\n",
      "Writing POSCAR for:  SCEL4_4_1_1_0_0_3/0  at  SiGe/training_data/occ/SCEL4_4_1_1_0_0_3/0/calctype.default/POSCAR\n",
      "Writing POSCAR for:  SCEL4_4_1_1_0_0_3/1  at  SiGe/training_data/occ/SCEL4_4_1_1_0_0_3/1/calctype.default/POSCAR\n",
      "Writing POSCAR for:  SCEL4_4_1_1_0_0_3/2  at  SiGe/training_data/occ/SCEL4_4_1_1_0_0_3/2/calctype.default/POSCAR\n",
      "Writing POSCAR for:  SCEL4_2_2_1_1_1_0/0  at  SiGe/training_data/occ/SCEL4_2_2_1_1_1_0/0/calctype.default/POSCAR\n",
      "Writing POSCAR for:  SCEL4_2_2_1_1_1_0/1  at  SiGe/training_data/occ/SCEL4_2_2_1_1_1_0/1/calctype.default/POSCAR\n"
     ]
    }
   ],
   "source": [
    "import os\n",
    "\n",
    "# read config_list.json -> containing a list of enumerated configurations\n",
    "with open(\"config_list.json\", \"r\") as f:\n",
    "    data = json.load(f)\n",
    "\n",
    "# convert the data into a configuration set\n",
    "configuration_set = casmconfig.ConfigurationSet()\n",
    "for d in data:\n",
    "    config = casmconfig.Configuration.from_dict(\n",
    "        data=d, supercells=casmconfig.SupercellSet(prim=prim)\n",
    "    )\n",
    "    configuration_set.add_configuration(config)\n",
    "\n",
    "\n",
    "# write vasp input files for each of the configurations\n",
    "# will be written to <casm_proj_name>/training_data/<enumuration_id>/<config_name>/calctype.<calctype_id>/\n",
    "casm_proj_name = \"SiGe\"  # define casm_proj_name\n",
    "enum_id = \"occ\"  # define enumeration_id\n",
    "calctype_id = \"default\"  # define calctype_id\n",
    "for config in configuration_set:\n",
    "    # get the config_name\n",
    "    config_name = os.path.join(config.supercell_name, config.configuration_id)\n",
    "\n",
    "    # final path where INCAR, KPOINTS, POTCAR, POSCAR will be written\n",
    "    config_calctype_dir = os.path.join(\n",
    "        casm_proj_name, \"training_data\", enum_id, config_name, \"calctype.\" + calctype_id\n",
    "    )\n",
    "\n",
    "    # make config_calctype_dir\n",
    "    os.makedirs(config_calctype_dir, exist_ok=True)\n",
    "\n",
    "    # Write poscar\n",
    "    poscar_str = config.configuration.to_structure().to_poscar_str()\n",
    "    poscar_path = os.path.join(config_calctype_dir, \"POSCAR\")\n",
    "\n",
    "    print(\"Writing POSCAR for: \", config_name, \" at \", poscar_path)\n",
    "    with open(poscar_path, \"w\") as f:\n",
    "        f.write(poscar_str)\n"
   ]
  },
  {
   "cell_type": "code",
   "execution_count": null,
   "id": "58f0513f1e2713c5",
   "metadata": {
    "collapsed": false,
    "jupyter": {
     "outputs_hidden": false
    }
   },
   "outputs": [],
   "source": []
  }
 ],
 "metadata": {
  "kernelspec": {
   "display_name": "Python 3 (ipykernel)",
   "language": "python",
   "name": "python3"
  },
  "language_info": {
   "codemirror_mode": {
    "name": "ipython",
    "version": 3
   },
   "file_extension": ".py",
   "mimetype": "text/x-python",
   "name": "python",
   "nbconvert_exporter": "python",
   "pygments_lexer": "ipython3",
   "version": "3.11.9"
  }
 },
 "nbformat": 4,
 "nbformat_minor": 5
}
