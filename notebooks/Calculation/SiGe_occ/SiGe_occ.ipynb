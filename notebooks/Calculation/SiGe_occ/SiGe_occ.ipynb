{
 "cells": [
  {
   "cell_type": "markdown",
   "id": "3a509878",
   "metadata": {},
   "source": [
    "This notebook illustrates how to setup VASP calculations once you are done with enumerating configurations using libcasm.enumerate"
   ]
  },
  {
   "cell_type": "code",
   "execution_count": 1,
   "id": "57b8f1c7",
   "metadata": {},
   "outputs": [],
   "source": [
    "import json\n",
    "import libcasm.configuration as casmconfig\n",
    "\n",
    "# read prim.json ---> first step is to read the prim.json of the project\n",
    "with open(\"inputs/prim.json\", \"r\") as f:\n",
    "    prim = casmconfig.Prim.from_dict(json.load(f))\n",
    "\n",
    "\n",
    "# read config_list.json ---> second step is to read a list of enumerated configurations\n",
    "with open(\"inputs/config_list.json\", \"r\") as f:\n",
    "    enumerated_configurations_dict = json.load(f)\n",
    "\n",
    "# once you are done reading the enumerated_confifgurations dictionary, convert the data into a configuration set\n",
    "configuration_set = casmconfig.ConfigurationSet()\n",
    "for d in enumerated_configurations_dict:\n",
    "    config = casmconfig.Configuration.from_dict(\n",
    "        data=d, supercells=casmconfig.SupercellSet(prim=prim)\n",
    "    )\n",
    "    configuration_set.add_configuration(config)"
   ]
  },
  {
   "cell_type": "markdown",
   "id": "05d8bdf4",
   "metadata": {},
   "source": [
    "These are two useful functions for converting configurations in CASM to an ase.Atoms object and vice-versa"
   ]
  },
  {
   "cell_type": "code",
   "execution_count": 2,
   "id": "fc63e77b",
   "metadata": {},
   "outputs": [],
   "source": [
    "import ase\n",
    "import libcasm.xtal as xtal\n",
    "\n",
    "\n",
    "# Conversion function from ase.Atoms to libcasm.xtal.Structure\n",
    "def casm_structure_to_ase_atoms(casm_structure: xtal.Structure) -> ase.Atoms:\n",
    "    \"\"\"Given `xtal.Structure`, convert it to `xtal.Structure`\n",
    "\n",
    "    Parameters\n",
    "    ----------\n",
    "    casm_structure : xtal.Structure\n",
    "\n",
    "    Returns\n",
    "    -------\n",
    "    ase.Atoms\n",
    "\n",
    "    \"\"\"\n",
    "    if len(casm_structure.mol_type()):\n",
    "        raise ValueError(\n",
    "            \"Error: only atomic structures may be converted using \" \"make_ase_atoms\"\n",
    "        )\n",
    "\n",
    "    symbols = casm_structure.atom_type()\n",
    "    positions = casm_structure.atom_coordinate_cart().transpose()\n",
    "    cell = casm_structure.lattice().column_vector_matrix().transpose()\n",
    "\n",
    "    return ase.Atoms(\n",
    "        symbols=symbols,\n",
    "        positions=positions,\n",
    "        cell=cell,\n",
    "        pbc=True,\n",
    "    )\n",
    "\n",
    "\n",
    "# Conversion function from ase.Atoms to libcasm.xtal.Structure\n",
    "def ase_atoms_to_casm_structure(ase_atoms: ase.Atoms) -> xtal.Structure:\n",
    "    \"\"\"Given `ase.Atoms`, convert it to `xtal.Structure`\n",
    "\n",
    "    Parameters\n",
    "    ----------\n",
    "    ase_atoms : ase.Atoms\n",
    "\n",
    "    Returns\n",
    "    -------\n",
    "    xtal.Structure\n",
    "\n",
    "    \"\"\"\n",
    "\n",
    "    lattice = xtal.Lattice(\n",
    "        column_vector_matrix=ase_atoms.get_cell().transpose(),\n",
    "    )\n",
    "    atom_coordinate_frac = ase_atoms.get_scaled_positions().transpose()\n",
    "    atom_type = ase_atoms.get_chemical_symbols()\n",
    "\n",
    "    return xtal.Structure(\n",
    "        lattice=lattice,\n",
    "        atom_coordinate_frac=atom_coordinate_frac,\n",
    "        atom_type=atom_type,\n",
    "    )"
   ]
  },
  {
   "cell_type": "code",
   "execution_count": 3,
   "id": "210ea12c40e3f6d4",
   "metadata": {
    "collapsed": false,
    "jupyter": {
     "outputs_hidden": false
    }
   },
   "outputs": [],
   "source": [
    "import os\n",
    "import ase.calculators.vasp\n",
    "\n",
    "# Write vasp input files for each of the configurations\n",
    "# Will be written to <casm_proj_name>/training_data/<enumuration_id>/<config_name>/calctype.<calctype_id>/\n",
    "casm_proj_name = \"SiGe\"  # define casm_proj_name\n",
    "enum_id = \"occ\"  # define enumeration_id\n",
    "calctype_id = \"default\"  # define calctype_id\n",
    "\n",
    "os.environ[\"VASP_PP_PATH\"] = \"/home/sesha/Projects/vasp_stuff/vasp_potentials\"\n",
    "setups = {\"Si\": \"\", \"Ge\": \"_d\"}\n",
    "\n",
    "for config in configuration_set:\n",
    "    # get the config_name\n",
    "    config_name = os.path.join(config.supercell_name, config.configuration_id)\n",
    "\n",
    "    # final path where INCAR, KPOINTS, POTCAR, POSCAR will be written\n",
    "    config_calctype_dir = os.path.join(\n",
    "        casm_proj_name, \"training_data\", enum_id, config_name, \"calctype.\" + calctype_id\n",
    "    )\n",
    "\n",
    "    # make config_calctype_dir\n",
    "    os.makedirs(config_calctype_dir, exist_ok=True)\n",
    "\n",
    "    # convert the current configuration to ase_atoms\n",
    "    ase_atoms = casm_structure_to_ase_atoms(config.configuration.to_structure())\n",
    "\n",
    "    # Make an ase VaspCalculator\n",
    "    vasp_calculator = ase.calculators.vasp.Vasp(\n",
    "        atoms=ase_atoms, directory=config_calctype_dir, setups=setups, xc=\"pbe\"\n",
    "    )\n",
    "    vasp_calculator.read_incar(\"inputs/INCAR\")  # read incars\n",
    "    vasp_calculator.read_kpoints(\"inputs/KPOINTS\")  # read kpoints\n",
    "\n",
    "    vasp_calculator.write_input(atoms=ase_atoms)  # Write INCAR, KPOINTS, POTCAR, POSCAR"
   ]
  }
 ],
 "metadata": {
  "kernelspec": {
   "display_name": "Python 3 (ipykernel)",
   "language": "python",
   "name": "python3"
  },
  "language_info": {
   "codemirror_mode": {
    "name": "ipython",
    "version": 3
   },
   "file_extension": ".py",
   "mimetype": "text/x-python",
   "name": "python",
   "nbconvert_exporter": "python",
   "pygments_lexer": "ipython3",
   "version": "3.11.9"
  }
 },
 "nbformat": 4,
 "nbformat_minor": 5
}
